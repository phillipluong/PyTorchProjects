{
 "cells": [
  {
   "cell_type": "code",
   "execution_count": 1,
   "metadata": {},
   "outputs": [],
   "source": [
    "import torch\n",
    "import torch.nn as nn\n",
    "import torchvision\n",
    "import torchvision.transforms as transforms"
   ]
  },
  {
   "cell_type": "code",
   "execution_count": 14,
   "metadata": {},
   "outputs": [],
   "source": [
    "import matplotlib.pyplot as plt\n",
    "import time\n",
    "import numpy as np"
   ]
  },
  {
   "cell_type": "code",
   "execution_count": 26,
   "metadata": {},
   "outputs": [
    {
     "ename": "ImportError",
     "evalue": "cannot import name 'Logger'",
     "output_type": "error",
     "traceback": [
      "\u001b[1;31m---------------------------------------------------------------------------\u001b[0m",
      "\u001b[1;31mImportError\u001b[0m                               Traceback (most recent call last)",
      "\u001b[1;32m<ipython-input-26-a8ecb381a127>\u001b[0m in \u001b[0;36m<module>\u001b[1;34m\u001b[0m\n\u001b[1;32m----> 1\u001b[1;33m \u001b[1;32mfrom\u001b[0m \u001b[0mlogger\u001b[0m \u001b[1;32mimport\u001b[0m \u001b[0mLogger\u001b[0m\u001b[1;33m\u001b[0m\u001b[1;33m\u001b[0m\u001b[0m\n\u001b[0m",
      "\u001b[1;31mImportError\u001b[0m: cannot import name 'Logger'"
     ]
    }
   ],
   "source": [
    "from logger import Logger"
   ]
  },
  {
   "cell_type": "code",
   "execution_count": 25,
   "metadata": {},
   "outputs": [
    {
     "data": {
      "text/plain": [
       "<module 'logger' from 'C:\\\\Users\\\\iamph\\\\Miniconda3\\\\envs\\\\tensorflow\\\\lib\\\\site-packages\\\\logger\\\\__init__.py'>"
      ]
     },
     "execution_count": 25,
     "metadata": {},
     "output_type": "execute_result"
    }
   ],
   "source": [
    "logger"
   ]
  },
  {
   "cell_type": "code",
   "execution_count": 2,
   "metadata": {},
   "outputs": [],
   "source": [
    "# Device Configuration\n",
    "device = torch.device('cpu')"
   ]
  },
  {
   "cell_type": "code",
   "execution_count": 3,
   "metadata": {},
   "outputs": [],
   "source": [
    "# Hyperparameters\n",
    "num_epochs = 5\n",
    "num_classes = 10\n",
    "batch_size = 100\n",
    "learning_rate = 0.001"
   ]
  },
  {
   "cell_type": "code",
   "execution_count": 6,
   "metadata": {},
   "outputs": [],
   "source": [
    "# QMNIST Dataset\n",
    "train_dataset = torchvision.datasets.QMNIST(root='../../data/',\n",
    "                                           train = True,\n",
    "                                           transform=transforms.ToTensor(),\n",
    "                                           download=True)\n",
    "\n",
    "test_dataset = torchvision.datasets.QMNIST(root='../../data/',\n",
    "                                       train = True,\n",
    "                                       transform=transforms.ToTensor(),\n",
    "                                       download=True)\n",
    "\n",
    "# Data loader\n",
    "train_loader = torch.utils.data.DataLoader(dataset = train_dataset,\n",
    "                                          batch_size = batch_size,\n",
    "                                          shuffle = True)\n",
    "\n",
    "test_loader = torch.utils.data.DataLoader(dataset = test_dataset,\n",
    "                                         batch_size = batch_size,\n",
    "                                         shuffle = False)"
   ]
  },
  {
   "cell_type": "code",
   "execution_count": 8,
   "metadata": {},
   "outputs": [],
   "source": [
    "display_loader = torch.utils.data.DataLoader(train_dataset, batch_size=20)"
   ]
  },
  {
   "cell_type": "code",
   "execution_count": 10,
   "metadata": {},
   "outputs": [
    {
     "name": "stdout",
     "output_type": "stream",
     "text": [
      "types: <class 'torch.Tensor'> <class 'torch.Tensor'>\n",
      "shapes: torch.Size([20, 1, 28, 28]) torch.Size([20])\n"
     ]
    }
   ],
   "source": [
    "batch = next(iter(display_loader))\n",
    "images, labels = batch\n",
    "\n",
    "print('types:', type(images), type(labels))\n",
    "print('shapes:', images.shape, labels.shape)"
   ]
  },
  {
   "cell_type": "code",
   "execution_count": 15,
   "metadata": {},
   "outputs": [
    {
     "name": "stdout",
     "output_type": "stream",
     "text": [
      "labels: tensor([5, 0, 4, 1, 9, 2, 1, 3, 1, 4, 3, 5, 3, 6, 1, 7, 2, 8, 6, 9])\n"
     ]
    },
    {
     "data": {
      "image/png": "[encoded data removed]",
      "text/plain": [
       "<Figure size 1080x1080 with 1 Axes>"
      ]
     },
     "metadata": {
      "needs_background": "light"
     },
     "output_type": "display_data"
    }
   ],
   "source": [
    "# Let's take a look at the dataset\n",
    "grid = torchvision.utils.make_grid(images, nrow=10)\n",
    "\n",
    "plt.figure(figsize = (15,15))\n",
    "plt.imshow(np.transpose(grid, (1,2,0))) #grid.permute is also okay\n",
    "\n",
    "print('labels:', labels)"
   ]
  },
  {
   "cell_type": "code",
   "execution_count": 36,
   "metadata": {},
   "outputs": [],
   "source": [
    "#CNN (two layers)\n",
    "class ConvNet(nn.Module):\n",
    "    def __init__(self, input_size=784, hidden_size=500, num_classes=10):\n",
    "        super(ConvNet, self).__init__()\n",
    "        self.layer1 = nn.Sequential(\n",
    "            nn.Conv2d(1, 16, kernel_size=5, stride=1, padding=2),\n",
    "            nn.BatchNorm2d(16),\n",
    "            nn.ReLU(),\n",
    "            nn.MaxPool2d(kernel_size=2, stride=2))\n",
    "        self.layer2 = nn.Sequential(\n",
    "            nn.Conv2d(16, 32, kernel_size=5, stride=1, padding=2),\n",
    "            nn.BatchNorm2d(32),\n",
    "            nn.ReLU(),\n",
    "            nn.MaxPool2d(kernel_size=2, stride=2))\n",
    "        self.fc = nn.Linear(7*7*32, num_classes)\n",
    "        \n",
    "    def forward(self,x):\n",
    "        out = self.layer1(x)\n",
    "        out = self.layer2(out)\n",
    "        out = out.reshape(out.size(0), -1)\n",
    "        out = self.fc(out)\n",
    "        return out"
   ]
  },
  {
   "cell_type": "code",
   "execution_count": 54,
   "metadata": {},
   "outputs": [],
   "source": [
    "model = ConvNet(num_classes).to(device)\n",
    "\n",
    "# Loss and Optimizer\n",
    "criterion = nn.CrossEntropyLoss()\n",
    "optimizer = torch.optim.Adam(model.parameters(), lr=learning_rate)"
   ]
  },
  {
   "cell_type": "markdown",
   "metadata": {},
   "source": [
    "### Interim: I want to see how I can get the accuracy of the model"
   ]
  },
  {
   "cell_type": "code",
   "execution_count": 47,
   "metadata": {},
   "outputs": [
    {
     "data": {
      "text/plain": [
       "tensor([4, 7, 4, 3, 1, 1, 2, 3, 9, 4, 1, 5, 5, 2, 0, 5, 3, 6, 3, 6, 6, 8, 9, 8,\n",
       "        0, 9, 1, 4, 0, 3, 1, 8, 4, 6, 7, 3, 8, 4, 3, 6, 8, 2, 5, 0, 9, 3, 4, 7,\n",
       "        7, 1, 5, 0, 8, 9, 2, 9, 6, 1, 2, 5, 3, 2, 3, 7, 6, 9, 1, 0, 2, 8, 7, 1,\n",
       "        9, 8, 5, 7, 9, 6, 8, 8, 4, 1, 0, 2, 9, 9, 8, 8, 3, 8, 5, 6, 4, 2, 5, 0,\n",
       "        8, 9, 6, 5])"
      ]
     },
     "execution_count": 47,
     "metadata": {},
     "output_type": "execute_result"
    }
   ],
   "source": [
    "model(images).argmax(axis=1)"
   ]
  },
  {
   "cell_type": "code",
   "execution_count": 45,
   "metadata": {},
   "outputs": [
    {
     "data": {
      "text/plain": [
       "tensor([4, 7, 4, 3, 1, 1, 2, 3, 9, 4, 1, 5, 5, 2, 0, 5, 3, 6, 3, 6, 6, 8, 9, 8,\n",
       "        0, 9, 1, 4, 0, 3, 1, 8, 4, 6, 7, 3, 8, 4, 3, 6, 8, 2, 5, 0, 9, 3, 4, 7,\n",
       "        7, 1, 5, 0, 8, 9, 2, 9, 6, 1, 2, 5, 3, 2, 3, 7, 6, 9, 1, 0, 2, 8, 7, 1,\n",
       "        9, 8, 5, 7, 9, 6, 8, 8, 4, 1, 0, 2, 9, 9, 8, 8, 3, 8, 5, 6, 4, 2, 5, 0,\n",
       "        8, 9, 6, 5])"
      ]
     },
     "execution_count": 45,
     "metadata": {},
     "output_type": "execute_result"
    }
   ],
   "source": [
    "labels"
   ]
  },
  {
   "cell_type": "code",
   "execution_count": 52,
   "metadata": {},
   "outputs": [
    {
     "data": {
      "text/plain": [
       "100"
      ]
     },
     "execution_count": 52,
     "metadata": {},
     "output_type": "execute_result"
    }
   ],
   "source": [
    "# Test how to get model accuracy\n",
    "(model(images).argmax(axis=1) == labels).sum().item()"
   ]
  },
  {
   "cell_type": "code",
   "execution_count": 53,
   "metadata": {},
   "outputs": [
    {
     "data": {
      "text/plain": [
       "60000"
      ]
     },
     "execution_count": 53,
     "metadata": {},
     "output_type": "execute_result"
    }
   ],
   "source": [
    "len(train_dataset)"
   ]
  },
  {
   "cell_type": "markdown",
   "metadata": {},
   "source": [
    "### Back to training"
   ]
  },
  {
   "cell_type": "code",
   "execution_count": 55,
   "metadata": {},
   "outputs": [
    {
     "name": "stdout",
     "output_type": "stream",
     "text": [
      "Epoch [1/5], Step [100/600], Loss: 0.2819\n",
      "Epoch [1/5], Step [200/600], Loss: 0.0662\n",
      "Epoch [1/5], Step [300/600], Loss: 0.0967\n",
      "Epoch [1/5], Step [400/600], Loss: 0.0503\n",
      "Epoch [1/5], Step [500/600], Loss: 0.0512\n",
      "Epoch [1/5], Step [600/600], Loss: 0.0258\n",
      "Epoch [1/5], Accuracy: 96.571667 %\n",
      "Epoch [2/5], Step [100/600], Loss: 0.0529\n",
      "Epoch [2/5], Step [200/600], Loss: 0.0091\n",
      "Epoch [2/5], Step [300/600], Loss: 0.0689\n",
      "Epoch [2/5], Step [400/600], Loss: 0.0180\n",
      "Epoch [2/5], Step [500/600], Loss: 0.0275\n",
      "Epoch [2/5], Step [600/600], Loss: 0.0296\n",
      "Epoch [2/5], Accuracy: 98.803333 %\n",
      "Epoch [3/5], Step [100/600], Loss: 0.0071\n",
      "Epoch [3/5], Step [200/600], Loss: 0.0048\n",
      "Epoch [3/5], Step [300/600], Loss: 0.0222\n",
      "Epoch [3/5], Step [400/600], Loss: 0.0509\n",
      "Epoch [3/5], Step [500/600], Loss: 0.0548\n",
      "Epoch [3/5], Step [600/600], Loss: 0.0252\n",
      "Epoch [3/5], Accuracy: 99.170000 %\n",
      "Epoch [4/5], Step [100/600], Loss: 0.0499\n",
      "Epoch [4/5], Step [200/600], Loss: 0.0045\n",
      "Epoch [4/5], Step [300/600], Loss: 0.0591\n",
      "Epoch [4/5], Step [400/600], Loss: 0.0188\n",
      "Epoch [4/5], Step [500/600], Loss: 0.0018\n",
      "Epoch [4/5], Step [600/600], Loss: 0.0931\n",
      "Epoch [4/5], Accuracy: 99.321667 %\n",
      "Epoch [5/5], Step [100/600], Loss: 0.0447\n",
      "Epoch [5/5], Step [200/600], Loss: 0.0144\n",
      "Epoch [5/5], Step [300/600], Loss: 0.0024\n",
      "Epoch [5/5], Step [400/600], Loss: 0.0052\n",
      "Epoch [5/5], Step [500/600], Loss: 0.0055\n",
      "Epoch [5/5], Step [600/600], Loss: 0.0304\n",
      "Epoch [5/5], Accuracy: 99.475000 %\n"
     ]
    }
   ],
   "source": [
    "# Train the model\n",
    "total_step = len(train_loader)\n",
    "for epoch in range(num_epochs):\n",
    "    correct = 0\n",
    "    for i, (images, labels) in enumerate(train_loader):\n",
    "        images = images.to(device)\n",
    "        labels = labels.to(device)\n",
    "        \n",
    "        # Forward pass\n",
    "        outputs = model(images)\n",
    "        loss = criterion(outputs, labels)\n",
    "        \n",
    "        # Backward and optimize\n",
    "        optimizer.zero_grad()\n",
    "        loss.backward()\n",
    "        optimizer.step()\n",
    "        \n",
    "        # Check accuracy progress:\n",
    "        correct += (model(images).argmax(axis=1) == labels).sum().item()\n",
    "        \n",
    "        if (i+1) % 100 == 0:\n",
    "            print('Epoch [{}/{}], Step [{}/{}], Loss: {:.4f}'.format(epoch+1, num_epochs, i+1, total_step, loss.item()))\n",
    "        \n",
    "        if (i+1) % 600 == 0:\n",
    "            accuracy = correct / len(train_dataset) * 100\n",
    "            print('Epoch [{}/{}], Accuracy: {:.2f} %'.format(epoch+1, num_epochs, accuracy))"
   ]
  },
  {
   "cell_type": "code",
   "execution_count": 56,
   "metadata": {},
   "outputs": [
    {
     "name": "stdout",
     "output_type": "stream",
     "text": [
      "Test Accuracy of the model on the 10000 test images: 99.43333333333334 %\n"
     ]
    }
   ],
   "source": [
    "# Test the model\n",
    "model.eval() # eval mode (batchnorm uses moving mean/variance instead of mini-batch mean/variance)\n",
    "with torch. no_grad():\n",
    "    correct = 0\n",
    "    total = 0\n",
    "    for images, labels in test_loader:\n",
    "        images = images.to(device)\n",
    "        labels = labels.to(device)\n",
    "        outputs = model(images)\n",
    "        _, predicted = torch.max(outputs.data, 1)\n",
    "        total += labels.size(0)\n",
    "        correct += (predicted == labels).sum().item()\n",
    "        \n",
    "    print('Test Accuracy of the model on the 10000 test images: {} %'.format(100 * correct / total))"
   ]
  },
  {
   "cell_type": "code",
   "execution_count": 58,
   "metadata": {},
   "outputs": [
    {
     "data": {
      "text/plain": [
       "59660"
      ]
     },
     "execution_count": 58,
     "metadata": {},
     "output_type": "execute_result"
    }
   ],
   "source": [
    "correct"
   ]
  },
  {
   "cell_type": "code",
   "execution_count": 60,
   "metadata": {},
   "outputs": [],
   "source": [
    "# Save the model checkpoint\n",
    "torch.save(model.state_dict(), 'model.ckpt')"
   ]
  },
  {
   "cell_type": "markdown",
   "metadata": {},
   "source": [
    "This was quite straightforward actually. Let's finish the report today and move on"
   ]
  },
  {
   "cell_type": "code",
   "execution_count": 20,
   "metadata": {},
   "outputs": [
    {
     "ename": "NameError",
     "evalue": "name 'Logger' is not defined",
     "output_type": "error",
     "traceback": [
      "\u001b[1;31m---------------------------------------------------------------------------\u001b[0m",
      "\u001b[1;31mNameError\u001b[0m                                 Traceback (most recent call last)",
      "\u001b[1;32m<ipython-input-20-e5bd3c75d370>\u001b[0m in \u001b[0;36m<module>\u001b[1;34m\u001b[0m\n\u001b[0;32m      1\u001b[0m \u001b[0mmodel\u001b[0m \u001b[1;33m=\u001b[0m \u001b[0mConvNet\u001b[0m\u001b[1;33m(\u001b[0m\u001b[1;33m)\u001b[0m\u001b[1;33m.\u001b[0m\u001b[0mto\u001b[0m\u001b[1;33m(\u001b[0m\u001b[0mdevice\u001b[0m\u001b[1;33m)\u001b[0m\u001b[1;33m\u001b[0m\u001b[1;33m\u001b[0m\u001b[0m\n\u001b[0;32m      2\u001b[0m \u001b[1;33m\u001b[0m\u001b[0m\n\u001b[1;32m----> 3\u001b[1;33m \u001b[0mlogger\u001b[0m \u001b[1;33m=\u001b[0m \u001b[0mLogger\u001b[0m\u001b[1;33m(\u001b[0m\u001b[1;34m'./logs'\u001b[0m\u001b[1;33m)\u001b[0m\u001b[1;33m\u001b[0m\u001b[1;33m\u001b[0m\u001b[0m\n\u001b[0m\u001b[0;32m      4\u001b[0m \u001b[1;33m\u001b[0m\u001b[0m\n\u001b[0;32m      5\u001b[0m \u001b[1;31m# Loss and Optimizer\u001b[0m\u001b[1;33m\u001b[0m\u001b[1;33m\u001b[0m\u001b[1;33m\u001b[0m\u001b[0m\n",
      "\u001b[1;31mNameError\u001b[0m: name 'Logger' is not defined"
     ]
    }
   ],
   "source": [
    "'''\n",
    "model = ConvNet().to(device)\n",
    "\n",
    "logger = Logger('./logs')\n",
    "\n",
    "# Loss and Optimizer\n",
    "criterion = nn.CrossEntropyLoss()\n",
    "optimizer = torch.optim.Adam(model.parameters(), lr=0.00001)\n",
    "\n",
    "data_iter = iter(data_loader)\n",
    "iter_per_epoch = len(data_loader)\n",
    "total_step = 50000\n",
    "\n",
    "# Start training\n",
    "for step in range(total_step):\n",
    "    \n",
    "    # Reset the data_iter\n",
    "    if (step+1) % iter_per_epoch == 0:\n",
    "        data_iter = iter(data_loader)\n",
    "        \n",
    "    # Fetch images and labels\n",
    "    images, labels = next(data_iter)\n",
    "    images, labels = images.view(image.size(0), -1).to(device), labels.to(device)\n",
    "    \n",
    "    # Forward pass\n",
    "    outputs = model(images)\n",
    "    loss = criterion(outputs, labels)\n",
    "    \n",
    "    # Backward and optimise\n",
    "    optimizer.zero_grad()\n",
    "    loss.backward()\n",
    "    optimizer.step()\n",
    "    \n",
    "    # Compute Accuracy\n",
    "    _, argmax = torch.max(outputs, 1)\n",
    "    accuracy = (labels == argmax.squeeze()).float().mean()\n",
    "    \n",
    "    if (step+1) % 100 == 0:\n",
    "        print('Step [{}/{}], Loss: {:.4f}, Acc: {:.2f}'\n",
    "             .format(step+1, total_step, loss.item(), accuracy.item()))\n",
    "        \n",
    "    # ================================================================== #\n",
    "    #                        Tensorboard Logging                         #\n",
    "    # ================================================================== #\n",
    "    \n",
    "    # 1. Log scalar values (scalar summary)\n",
    "    info = { 'loss': loss.item(), 'accuracy': accuracy.item()}\n",
    "    \n",
    "    for tag, value in info.items():\n",
    "        logger.scalar_summary(tag, value, step+1)\n",
    "        \n",
    "    # 2. Log values and gradients of the parameters (histogram summary)\n",
    "    for tag, value in model.named_parameters():\n",
    "        tag = tag.replace('.', '/')\n",
    "        logger.histo_summary(tag, value.data.cpu().numpy(). step+1)\n",
    "        logger.histo_summary(tag+'/grad', value_grad.data.cpu().numpy(), step+1)\n",
    "        \n",
    "    # 3. Log traning images (image summary)\n",
    "    info = {'images': images.view(-1, 28, 28)[:10].cpu().numpy()}\n",
    "    \n",
    "    for tag, images in info.items():\n",
    "        logger.image_summary(tag, images, step+1)\n",
    "'''"
   ]
  },
  {
   "cell_type": "code",
   "execution_count": null,
   "metadata": {},
   "outputs": [],
   "source": []
  }
 ],
 "metadata": {
  "kernelspec": {
   "display_name": "Python 3.6 (tensorflow)",
   "language": "python",
   "name": "tensorflow"
  },
  "language_info": {
   "codemirror_mode": {
    "name": "ipython",
    "version": 3
   },
   "file_extension": ".py",
   "mimetype": "text/x-python",
   "name": "python",
   "nbconvert_exporter": "python",
   "pygments_lexer": "ipython3",
   "version": "3.6.8"
  }
 },
 "nbformat": 4,
 "nbformat_minor": 2
}
