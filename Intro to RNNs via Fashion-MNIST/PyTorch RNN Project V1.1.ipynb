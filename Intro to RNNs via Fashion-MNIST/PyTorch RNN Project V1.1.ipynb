{
 "cells": [
  {
   "cell_type": "markdown",
   "metadata": {},
   "source": [
    "# Building a Recurrent Neural Network with PyTorch\n",
    "__Originally Created:__ 09/05/2020 8:14PM\n",
    "\n",
    "__V1.1 Created:__ 14/05/2020 7:43PM\n",
    "\n",
    "__Last Edited:__ 14/05/2020 7:43PM\n",
    "\n",
    "__Firstly, I would like to thank Deep Learning Wizard for this resource.__\n",
    "https://www.deeplearningwizard.com/deep_learning/practical_pytorch/pytorch_recurrent_neuralnetwork/"
   ]
  },
  {
   "cell_type": "code",
   "execution_count": 30,
   "metadata": {},
   "outputs": [],
   "source": [
    "import torch\n",
    "import torch.nn as nn\n",
    "import torchvision.transforms as transforms\n",
    "import torchvision.datasets as dsets\n",
    "from torch.utils.data import DataLoader\n",
    "from torch.autograd import Variable"
   ]
  },
  {
   "cell_type": "code",
   "execution_count": 11,
   "metadata": {},
   "outputs": [],
   "source": [
    "import matplotlib.pyplot as plt\n",
    "import seaborn as sns"
   ]
  },
  {
   "cell_type": "code",
   "execution_count": 135,
   "metadata": {},
   "outputs": [],
   "source": [
    "import numpy as np\n",
    "import pandas as pd"
   ]
  },
  {
   "cell_type": "code",
   "execution_count": 121,
   "metadata": {},
   "outputs": [],
   "source": [
    "import itertools"
   ]
  },
  {
   "cell_type": "code",
   "execution_count": 17,
   "metadata": {},
   "outputs": [],
   "source": [
    "import time"
   ]
  },
  {
   "cell_type": "markdown",
   "metadata": {},
   "source": [
    "# First, I'm going to explore the methods that didn't result in a good model/ Why didn't the model get better?\n",
    "## Dataset used: FashionMNIST"
   ]
  },
  {
   "cell_type": "code",
   "execution_count": 3,
   "metadata": {},
   "outputs": [],
   "source": [
    "train_data = dset.FashionMNIST(root='./data',\n",
    "                               train = True,\n",
    "                               transform=transforms.ToTensor(),\n",
    "                               download = True)\n",
    "\n",
    "test_data = dset.FashionMNIST(root='./data',\n",
    "                               train = False,\n",
    "                               transform=transforms.ToTensor())"
   ]
  },
  {
   "cell_type": "markdown",
   "metadata": {},
   "source": [
    "#### Make Datasets Iterable"
   ]
  },
  {
   "cell_type": "code",
   "execution_count": 4,
   "metadata": {},
   "outputs": [],
   "source": [
    "train_loader = DataLoader(dataset = train_data, batch_size = 100, shuffle = True)\n",
    "test_loader = DataLoader(dataset = test_data, batch_size = 100, shuffle = True)"
   ]
  },
  {
   "cell_type": "code",
   "execution_count": 6,
   "metadata": {},
   "outputs": [],
   "source": [
    "batch_size = 100\n",
    "n_iters = 3000\n",
    "num_epochs = n_iters / (len(train_data) / batch_size)\n",
    "num_epochs = int(num_epochs)"
   ]
  },
  {
   "cell_type": "markdown",
   "metadata": {},
   "source": [
    "#### Create the Model"
   ]
  },
  {
   "cell_type": "code",
   "execution_count": 7,
   "metadata": {},
   "outputs": [],
   "source": [
    "class RNNModel(nn.Module):\n",
    "    def __init__(self, input_dim, hidden_dim, layer_dim, output_dim):\n",
    "        super(RNNModel, self).__init__()\n",
    "        \n",
    "        # Hidden Dimensions\n",
    "        self.hidden_dim = hidden_dim\n",
    "        \n",
    "        # Number of Hidden Layers\n",
    "        self.layer_dim = layer_dim\n",
    "        \n",
    "        # Building your RNN\n",
    "        # batch_first = True causes input/output tensors to be of shape\n",
    "        # (batch_dim, seq_dim, input_dim)\n",
    "        # batch_dim = number of samples per batch\n",
    "        self.rnn = nn.RNN(input_dim, hidden_dim, layer_dim, batch_first=True, nonlinearity='relu')\n",
    "        \n",
    "        # Readout layer\n",
    "        self.fc = nn.Linear(hidden_dim, output_dim)\n",
    "        \n",
    "    def forward(self, x):\n",
    "        # Initialize hidden state with zeros\n",
    "        # (layer_dim, batch_size, hidden_dim)\n",
    "        h0 = torch.zeros(self.layer_dim, x.size(0), self.hidden_dim).requires_grad_()\n",
    "        \n",
    "        # We need to detach the hidden state to prevent exploding/vanishing gradients\n",
    "        # This is part of the truncated backpropagation through time (BPTT)\n",
    "        out, hn = self.rnn(x, h0.detach())\n",
    "        \n",
    "        # Index hidden state of last time step\n",
    "        # out.size() --> 100, 28, 10\n",
    "        # out[:, -1, :] --> 100, 10 --> just want last time step hidden states!\n",
    "        out = self.fc(out[:, -1, :])\n",
    "        # out.size() --> 100, 10\n",
    "        return out"
   ]
  },
  {
   "cell_type": "markdown",
   "metadata": {},
   "source": [
    "#### Instantiate Model Class\n",
    "- 28 time steps\n",
    "   - Each time step: input dimension = 28\n",
    "- 1 hidden layer\n",
    "- MNIST 1-9 digits --> output dimension = 10"
   ]
  },
  {
   "cell_type": "code",
   "execution_count": 14,
   "metadata": {},
   "outputs": [],
   "source": [
    "input_dim = 28\n",
    "hidden_dim = 100\n",
    "layer_dim = 1\n",
    "output_dim = 10"
   ]
  },
  {
   "cell_type": "markdown",
   "metadata": {},
   "source": [
    "#### Other Information"
   ]
  },
  {
   "cell_type": "code",
   "execution_count": 21,
   "metadata": {},
   "outputs": [
    {
     "data": {
      "text/plain": [
       "6"
      ]
     },
     "execution_count": 21,
     "metadata": {},
     "output_type": "execute_result"
    }
   ],
   "source": [
    "model = RNNModel(input_dim, hidden_dim, layer_dim, output_dim)\n",
    "\n",
    "criterion = nn.CrossEntropyLoss()\n",
    "\n",
    "learning_rate = 0.01\n",
    "optimizer = torch.optim.SGD(model.parameters(), lr=learning_rate)\n",
    "\n",
    "len(list(model.parameters()))"
   ]
  },
  {
   "cell_type": "markdown",
   "metadata": {},
   "source": [
    "#### Train Model"
   ]
  },
  {
   "cell_type": "code",
   "execution_count": 18,
   "metadata": {},
   "outputs": [
    {
     "data": {
      "text/plain": [
       "5"
      ]
     },
     "execution_count": 18,
     "metadata": {},
     "output_type": "execute_result"
    }
   ],
   "source": [
    "num_epochs"
   ]
  },
  {
   "cell_type": "code",
   "execution_count": 22,
   "metadata": {},
   "outputs": [
    {
     "name": "stdout",
     "output_type": "stream",
     "text": [
      "Epoch: 1. Iteration: 500. Loss: 2.31. Accuracy: 13.66\n",
      "Epoch: 2. Iteration: 1000. Loss: 2.34. Accuracy: 13.66\n",
      "Epoch: 3. Iteration: 1500. Loss: 2.31. Accuracy: 13.66\n",
      "Epoch: 4. Iteration: 2000. Loss: 2.31. Accuracy: 13.66\n",
      "Epoch: 5. Iteration: 2500. Loss: 2.31. Accuracy: 13.66\n",
      "Epoch: 5. Iteration: 3000. Loss: 2.30. Accuracy: 13.66\n",
      "Total time: 137.85\n"
     ]
    }
   ],
   "source": [
    "# Starting time\n",
    "start_time = time.time()\n",
    "\n",
    "# Number of swteps to unroll\n",
    "seq_dim = 28\n",
    "\n",
    "iter = 0\n",
    "for epoch in range(num_epochs):\n",
    "    for i, (images, labels) in enumerate(train_loader):\n",
    "        #model.train()\n",
    "        \n",
    "        # Load images as tensors with gradient accumulation abilities\n",
    "        images = images.view(-1, seq_dim, input_dim).requires_grad_()\n",
    "        \n",
    "        # Clear gradients wrt parameters\n",
    "        optimizer.zero_grad()\n",
    "        \n",
    "        # Forward pass to get output/logits\n",
    "        # outputs.size() --> 100, 10\n",
    "        outputs = model(images)\n",
    "        \n",
    "        # Calculate Loss: softmax --> cross entropy loss\n",
    "        loss = criterion(outputs, labels)\n",
    "        \n",
    "        # Getting gradients wrt parameters\n",
    "        loss.backward()\n",
    "        \n",
    "        # Updating parameters\n",
    "        optimizer.step()\n",
    "        \n",
    "        iter += 1\n",
    "        \n",
    "        if iter % 500 == 0:\n",
    "            model.eval()\n",
    "            \n",
    "            # Calculate Accuracy\n",
    "            correct = 0\n",
    "            total = 0\n",
    "            \n",
    "            # Iterate through test dataset\n",
    "            for images, labels in test_loader:\n",
    "                \n",
    "                # Load images to a Torch tensors with gradient accumulation abilities\n",
    "                images = images.view(-1, seq_dim, input_dim)\n",
    "                \n",
    "                # Forward pass only to get logits/output\n",
    "                outputs = model(images)\n",
    "                \n",
    "                # Get predictions from the maximum value\n",
    "                _, predicted = torch.max(outputs.data, 1)\n",
    "                \n",
    "                # Total number of labels\n",
    "                total += labels.size(0)\n",
    "                \n",
    "                # Total correct predictions\n",
    "                correct += float((predicted == labels).sum())\n",
    "                \n",
    "            accuracy = 100 * correct / total\n",
    "            \n",
    "            # Print Loss\n",
    "            print('Epoch: {}. Iteration: {}. Loss: {:.2f}. Accuracy: {:.2f}'.format(epoch+1, iter, loss.item(), accuracy))\n",
    "print('Total time: {:.2f}'.format(time.time()-start_time))"
   ]
  },
  {
   "cell_type": "markdown",
   "metadata": {},
   "source": [
    "# LSTM"
   ]
  },
  {
   "cell_type": "code",
   "execution_count": 46,
   "metadata": {},
   "outputs": [],
   "source": [
    "'''\n",
    "class LSTMNet(torch.nn.Module):\n",
    "    def __init__(self, input_dim, hidden_dim, output_dim):\n",
    "        super(LSTMNet, self).__init__()\n",
    "        self.hidden_dim = hidden_dim\n",
    "        self.lstm = nn.LSTM(input_dim, hidden_dim)\n",
    "        self.linear = nn.Linear(hidden_dim, output_dim, bias=False)\n",
    "        \n",
    "    def forward(self,x):\n",
    "        batch_size = x.size()[0]\n",
    "        h0 = Variable(torch.zeros([1, batch_size, self.hidden_dim]), requires_grad=False)\n",
    "        c0 = Variable(torch.zeros([1, batch_size, self.hidden_dim]), requires_grad=False)\n",
    "        fx, _ = self.lstm.forward(x, (h0, c0))\n",
    "        return self.linear.forward(fx[-1])\n",
    "'''"
   ]
  },
  {
   "cell_type": "code",
   "execution_count": null,
   "metadata": {},
   "outputs": [],
   "source": [
    "'''\n",
    "train_size = 60000\n",
    "n_classes = 10\n",
    "seq_length = 28\n",
    "input_dim = 28\n",
    "hidden_dim = 128\n",
    "batch_size = 100\n",
    "epochs = 10\n",
    "\n",
    "# Device Configuration\n",
    "device = torch.device('cpu')\n",
    "\n",
    "# Convert the data to the shape (seq_length, num_samples, input_dim)\n",
    "model = LSTMNet(input_dim, hidden_dim, n_classes)\n",
    "loss = torch.nn.CrossEntropyLoss(reduction='elementwise_mean')\n",
    "optimizer = torch.optim.SGD(model.parameters(), lr=0.01, momentum=0.9)\n",
    "'''"
   ]
  },
  {
   "cell_type": "code",
   "execution_count": 50,
   "metadata": {},
   "outputs": [],
   "source": [
    "class LSTMModel(nn.Module):\n",
    "    def __init__(self, input_dim, hidden_dim, layer_dim, output_dim):\n",
    "        super(LSTMModel, self).__init__()\n",
    "        # Hidden dimensions\n",
    "        self.hidden_dim = hidden_dim\n",
    "\n",
    "        # Number of hidden layers\n",
    "        self.layer_dim = layer_dim\n",
    "\n",
    "        # Building your LSTM\n",
    "        # batch_first=True causes input/output tensors to be of shape\n",
    "        # (batch_dim, seq_dim, feature_dim)\n",
    "        self.lstm = nn.LSTM(input_dim, hidden_dim, layer_dim, batch_first=True)\n",
    "\n",
    "        # Readout layer\n",
    "        self.fc = nn.Linear(hidden_dim, output_dim)\n",
    "\n",
    "    def forward(self, x):\n",
    "        # Initialize hidden state with zeros\n",
    "        h0 = torch.zeros(self.layer_dim, x.size(0), self.hidden_dim).requires_grad_()\n",
    "\n",
    "        # Initialize cell state\n",
    "        c0 = torch.zeros(self.layer_dim, x.size(0), self.hidden_dim).requires_grad_()\n",
    "\n",
    "        # 28 time steps\n",
    "        # We need to detach as we are doing truncated backpropagation through time (BPTT)\n",
    "        # If we don't, we'll backprop all the way to the start even after going through another batch\n",
    "        out, (hn, cn) = self.lstm(x, (h0.detach(), c0.detach()))\n",
    "\n",
    "        # Index hidden state of last time step\n",
    "        # out.size() --> 100, 28, 100\n",
    "        # out[:, -1, :] --> 100, 100 --> just want last time step hidden states! \n",
    "        out = self.fc(out[:, -1, :]) \n",
    "        # out.size() --> 100, 10\n",
    "        return out\n"
   ]
  },
  {
   "cell_type": "code",
   "execution_count": 82,
   "metadata": {},
   "outputs": [],
   "source": [
    "input_dim = 28\n",
    "hidden_dim = 100\n",
    "layer_dim = 1\n",
    "output_dim = 10\n",
    "\n",
    "#device = torch.device('cpu')\n",
    "model = LSTMModel(input_dim, hidden_dim, layer_dim, output_dim)\n",
    "criterion = nn.CrossEntropyLoss()\n",
    "loss = torch.nn.CrossEntropyLoss(reduction='elementwise_mean')\n",
    "optimizer = torch.optim.SGD(model.parameters(), lr=0.01, momentum=0.9)"
   ]
  },
  {
   "cell_type": "code",
   "execution_count": 83,
   "metadata": {
    "scrolled": true
   },
   "outputs": [
    {
     "name": "stdout",
     "output_type": "stream",
     "text": [
      "Epoch: 1. Iteration: 500. Loss: 0.94. Accuracy: 59.96\n",
      "Epoch: 2. Iteration: 1000. Loss: 0.70. Accuracy: 73.62\n",
      "Epoch: 3. Iteration: 1500. Loss: 0.66. Accuracy: 78.25\n",
      "Epoch: 4. Iteration: 2000. Loss: 0.45. Accuracy: 80.40\n",
      "Epoch: 5. Iteration: 2500. Loss: 0.42. Accuracy: 82.97\n",
      "Epoch: 5. Iteration: 3000. Loss: 0.45. Accuracy: 83.81\n",
      "Total time: 305.34\n"
     ]
    }
   ],
   "source": [
    "# Starting time\n",
    "start_time = time.time()\n",
    "\n",
    "# Number of swteps to unroll\n",
    "seq_dim = 28\n",
    "\n",
    "iter = 0\n",
    "for epoch in range(num_epochs):\n",
    "    for i, (images, labels) in enumerate(train_loader):\n",
    "        #model.train()\n",
    "        \n",
    "        # Load images as tensors with gradient accumulation abilities\n",
    "        images = images.view(-1, seq_dim, input_dim).requires_grad_()\n",
    "        \n",
    "        #images = images.to(device)\n",
    "        #labels = labels.to(device)\n",
    "        \n",
    "        # Clear gradients wrt parameters\n",
    "        optimizer.zero_grad()\n",
    "        \n",
    "        # Forward pass to get output/logits\n",
    "        # outputs.size() --> 100, 10\n",
    "        outputs = model(images)\n",
    "        \n",
    "        # Calculate Loss: softmax --> cross entropy loss\n",
    "        loss = criterion(outputs, labels)\n",
    "        \n",
    "        # Getting gradients wrt parameters\n",
    "        loss.backward()\n",
    "        \n",
    "        # Updating parameters\n",
    "        optimizer.step()\n",
    "        \n",
    "        iter += 1\n",
    "        \n",
    "        if iter % 500 == 0:\n",
    "            model.eval()\n",
    "            \n",
    "            # Calculate Accuracy\n",
    "            correct = 0\n",
    "            total = 0\n",
    "            \n",
    "            # Iterate through test dataset\n",
    "            for images, labels in test_loader:\n",
    "                \n",
    "                # Load images to a Torch tensors with gradient accumulation abilities\n",
    "                images = images.view(-1, seq_dim, input_dim)\n",
    "                \n",
    "                # Forward pass only to get logits/output\n",
    "                outputs = model(images).argmax(axis=1)\n",
    "                \n",
    "                # Total number of labels\n",
    "                total += labels.size(0)\n",
    "                \n",
    "                # Total correct predictions\n",
    "                correct += float((outputs == labels).sum())\n",
    "                \n",
    "            accuracy = 100 * correct / total\n",
    "            \n",
    "            # Print Loss\n",
    "            print('Epoch: {}. Iteration: {}. Loss: {:.2f}. Accuracy: {:.2f}'.format(epoch+1, iter, loss.item(), accuracy))\n",
    "print('Total time: {:.2f}'.format(time.time()-start_time))"
   ]
  },
  {
   "cell_type": "markdown",
   "metadata": {},
   "source": [
    "### 10 epochs"
   ]
  },
  {
   "cell_type": "code",
   "execution_count": 128,
   "metadata": {},
   "outputs": [
    {
     "name": "stdout",
     "output_type": "stream",
     "text": [
      "Epoch: 1. Iteration: 500. Loss: 0.88. Accuracy: 60.81\n",
      "Epoch: 2. Iteration: 1000. Loss: 0.54. Accuracy: 73.13\n",
      "Epoch: 3. Iteration: 1500. Loss: 0.57. Accuracy: 78.16\n",
      "Epoch: 4. Iteration: 2000. Loss: 0.64. Accuracy: 81.93\n",
      "Epoch: 5. Iteration: 2500. Loss: 0.59. Accuracy: 82.84\n",
      "Epoch: 5. Iteration: 3000. Loss: 0.58. Accuracy: 83.22\n",
      "Epoch: 6. Iteration: 3500. Loss: 0.52. Accuracy: 83.99\n",
      "Epoch: 7. Iteration: 4000. Loss: 0.51. Accuracy: 84.21\n",
      "Epoch: 8. Iteration: 4500. Loss: 0.41. Accuracy: 84.94\n",
      "Epoch: 9. Iteration: 5000. Loss: 0.43. Accuracy: 84.67\n",
      "Epoch: 10. Iteration: 5500. Loss: 0.27. Accuracy: 86.07\n",
      "Epoch: 10. Iteration: 6000. Loss: 0.34. Accuracy: 85.83\n",
      "Epoch: 11. Iteration: 6500. Loss: 0.31. Accuracy: 85.59\n",
      "Epoch: 12. Iteration: 7000. Loss: 0.43. Accuracy: 86.40\n",
      "Epoch: 13. Iteration: 7500. Loss: 0.25. Accuracy: 85.55\n",
      "Epoch: 14. Iteration: 8000. Loss: 0.35. Accuracy: 86.99\n",
      "Epoch: 15. Iteration: 8500. Loss: 0.37. Accuracy: 87.23\n",
      "Epoch: 15. Iteration: 9000. Loss: 0.32. Accuracy: 86.65\n",
      "Epoch: 16. Iteration: 9500. Loss: 0.22. Accuracy: 86.86\n",
      "Epoch: 17. Iteration: 10000. Loss: 0.31. Accuracy: 87.49\n",
      "Epoch: 18. Iteration: 10500. Loss: 0.20. Accuracy: 87.56\n",
      "Epoch: 19. Iteration: 11000. Loss: 0.28. Accuracy: 87.91\n",
      "Epoch: 20. Iteration: 11500. Loss: 0.24. Accuracy: 87.45\n",
      "Epoch: 20. Iteration: 12000. Loss: 0.35. Accuracy: 88.24\n",
      "Total time: 1193.69\n"
     ]
    }
   ],
   "source": [
    "input_dim = 28\n",
    "hidden_dim = 100\n",
    "layer_dim = 1\n",
    "output_dim = 10\n",
    "\n",
    "#device = torch.device('cpu')\n",
    "model = LSTMModel(input_dim, hidden_dim, layer_dim, output_dim)\n",
    "criterion = nn.CrossEntropyLoss()\n",
    "loss = torch.nn.CrossEntropyLoss(reduction='elementwise_mean')\n",
    "optimizer = torch.optim.SGD(model.parameters(), lr=0.01, momentum=0.9)\n",
    "\n",
    "num_epochs = 20\n",
    "\n",
    "# Starting time\n",
    "start_time = time.time()\n",
    "\n",
    "# Number of swteps to unroll\n",
    "seq_dim = 28\n",
    "\n",
    "iter = 0\n",
    "for epoch in range(num_epochs):\n",
    "    for i, (images, labels) in enumerate(train_loader):\n",
    "        #model.train()\n",
    "        \n",
    "        # Load images as tensors with gradient accumulation abilities\n",
    "        images = images.view(-1, seq_dim, input_dim).requires_grad_()\n",
    "        \n",
    "        #images = images.to(device)\n",
    "        #labels = labels.to(device)\n",
    "        \n",
    "        # Clear gradients wrt parameters\n",
    "        optimizer.zero_grad()\n",
    "        \n",
    "        # Forward pass to get output/logits\n",
    "        # outputs.size() --> 100, 10\n",
    "        outputs = model(images)\n",
    "        \n",
    "        # Calculate Loss: softmax --> cross entropy loss\n",
    "        loss = criterion(outputs, labels)\n",
    "        \n",
    "        # Getting gradients wrt parameters\n",
    "        loss.backward()\n",
    "        \n",
    "        # Updating parameters\n",
    "        optimizer.step()\n",
    "        \n",
    "        iter += 1\n",
    "        \n",
    "        if iter % 500 == 0:\n",
    "            model.eval()\n",
    "            \n",
    "            # Calculate Accuracy\n",
    "            correct = 0\n",
    "            total = 0\n",
    "            \n",
    "            # Iterate through test dataset\n",
    "            for images, labels in test_loader:\n",
    "                \n",
    "                # Load images to a Torch tensors with gradient accumulation abilities\n",
    "                images = images.view(-1, seq_dim, input_dim)\n",
    "                \n",
    "                # Forward pass only to get logits/output\n",
    "                outputs = model(images).argmax(axis=1)\n",
    "                \n",
    "                # Total number of labels\n",
    "                total += labels.size(0)\n",
    "                \n",
    "                # Total correct predictions\n",
    "                correct += float((outputs == labels).sum())\n",
    "                \n",
    "            accuracy = 100 * correct / total\n",
    "            \n",
    "            # Print Loss\n",
    "            print('Epoch: {}. Iteration: {}. Loss: {:.2f}. Accuracy: {:.2f}'.format(epoch+1, iter, loss.item(), accuracy))\n",
    "print('Total time: {:.2f}'.format(time.time()-start_time))\n"
   ]
  },
  {
   "cell_type": "code",
   "execution_count": null,
   "metadata": {},
   "outputs": [],
   "source": []
  },
  {
   "cell_type": "code",
   "execution_count": 86,
   "metadata": {},
   "outputs": [],
   "source": [
    "model = RNNModel(input_dim, hidden_dim, layer_dim, output_dim)\n",
    "\n",
    "criterion = nn.CrossEntropyLoss()\n",
    "\n",
    "learning_rate = 0.01\n",
    "optimizer = torch.optim.SGD(model.parameters(), lr=learning_rate)"
   ]
  },
  {
   "cell_type": "code",
   "execution_count": 87,
   "metadata": {},
   "outputs": [
    {
     "name": "stdout",
     "output_type": "stream",
     "text": [
      "Epoch: 1. Iteration: 500. Loss: 2.09. Accuracy: 23.04\n",
      "Epoch: 2. Iteration: 1000. Loss: 1.37. Accuracy: 46.58\n",
      "Epoch: 3. Iteration: 1500. Loss: 1.21. Accuracy: 54.00\n",
      "Epoch: 4. Iteration: 2000. Loss: 0.94. Accuracy: 63.64\n",
      "Epoch: 5. Iteration: 2500. Loss: 0.64. Accuracy: 72.71\n",
      "Epoch: 5. Iteration: 3000. Loss: 0.66. Accuracy: 68.90\n",
      "Epoch: 6. Iteration: 3500. Loss: 0.63. Accuracy: 71.72\n",
      "Epoch: 7. Iteration: 4000. Loss: 0.69. Accuracy: 76.31\n",
      "Epoch: 8. Iteration: 4500. Loss: 0.71. Accuracy: 78.93\n",
      "Epoch: 9. Iteration: 5000. Loss: 0.63. Accuracy: 78.65\n",
      "Epoch: 10. Iteration: 5500. Loss: 0.51. Accuracy: 80.25\n",
      "Epoch: 10. Iteration: 6000. Loss: 0.50. Accuracy: 80.32\n",
      "Epoch: 11. Iteration: 6500. Loss: 0.48. Accuracy: 80.48\n",
      "Epoch: 12. Iteration: 7000. Loss: 0.44. Accuracy: 80.59\n",
      "Epoch: 13. Iteration: 7500. Loss: 0.57. Accuracy: 81.27\n",
      "Epoch: 14. Iteration: 8000. Loss: 0.32. Accuracy: 82.17\n",
      "Epoch: 15. Iteration: 8500. Loss: 0.58. Accuracy: 82.29\n",
      "Epoch: 15. Iteration: 9000. Loss: 0.63. Accuracy: 82.11\n",
      "Epoch: 16. Iteration: 9500. Loss: 0.47. Accuracy: 82.73\n",
      "Epoch: 17. Iteration: 10000. Loss: 0.40. Accuracy: 83.51\n",
      "Epoch: 18. Iteration: 10500. Loss: 0.35. Accuracy: 82.86\n",
      "Epoch: 19. Iteration: 11000. Loss: 0.37. Accuracy: 84.29\n",
      "Epoch: 20. Iteration: 11500. Loss: 0.40. Accuracy: 84.45\n",
      "Epoch: 20. Iteration: 12000. Loss: 0.39. Accuracy: 82.53\n",
      "Total time: 521.46\n"
     ]
    }
   ],
   "source": [
    "# Starting time\n",
    "start_time = time.time()\n",
    "\n",
    "# Number of swteps to unroll\n",
    "seq_dim = 28\n",
    "\n",
    "iter = 0\n",
    "for epoch in range(num_epochs):\n",
    "    for i, (images, labels) in enumerate(train_loader):\n",
    "        #model.train()\n",
    "        \n",
    "        # Load images as tensors with gradient accumulation abilities\n",
    "        images = images.view(-1, seq_dim, input_dim).requires_grad_()\n",
    "        \n",
    "        # Clear gradients wrt parameters\n",
    "        optimizer.zero_grad()\n",
    "        \n",
    "        # Forward pass to get output/logits\n",
    "        # outputs.size() --> 100, 10\n",
    "        outputs = model(images)\n",
    "        \n",
    "        # Calculate Loss: softmax --> cross entropy loss\n",
    "        loss = criterion(outputs, labels)\n",
    "        \n",
    "        # Getting gradients wrt parameters\n",
    "        loss.backward()\n",
    "        \n",
    "        # Updating parameters\n",
    "        optimizer.step()\n",
    "        \n",
    "        iter += 1\n",
    "        \n",
    "        if iter % 500 == 0:\n",
    "            model.eval()\n",
    "            \n",
    "            # Calculate Accuracy\n",
    "            correct = 0\n",
    "            total = 0\n",
    "            \n",
    "            # Iterate through test dataset\n",
    "            for images, labels in test_loader:\n",
    "                \n",
    "                # Load images to a Torch tensors with gradient accumulation abilities\n",
    "                images = images.view(-1, seq_dim, input_dim)\n",
    "                \n",
    "                # Forward pass only to get logits/output\n",
    "                outputs = model(images)\n",
    "                \n",
    "                # Get predictions from the maximum value\n",
    "                _, predicted = torch.max(outputs.data, 1)\n",
    "                \n",
    "                # Total number of labels\n",
    "                total += labels.size(0)\n",
    "                \n",
    "                # Total correct predictions\n",
    "                correct += float((predicted == labels).sum())\n",
    "                \n",
    "            accuracy = 100 * correct / total\n",
    "            \n",
    "            # Print Loss\n",
    "            print('Epoch: {}. Iteration: {}. Loss: {:.2f}. Accuracy: {:.2f}'.format(epoch+1, iter, loss.item(), accuracy))\n",
    "print('Total time: {:.2f}'.format(time.time()-start_time))"
   ]
  },
  {
   "cell_type": "code",
   "execution_count": null,
   "metadata": {},
   "outputs": [],
   "source": []
  },
  {
   "cell_type": "code",
   "execution_count": null,
   "metadata": {},
   "outputs": [],
   "source": []
  },
  {
   "cell_type": "markdown",
   "metadata": {},
   "source": [
    "## The other thing I want to do is to check the number of each class"
   ]
  },
  {
   "cell_type": "code",
   "execution_count": 110,
   "metadata": {},
   "outputs": [],
   "source": [
    "train_labels = np.zeros([10])\n",
    "test_labels = np.zeros([10])"
   ]
  },
  {
   "cell_type": "code",
   "execution_count": 111,
   "metadata": {},
   "outputs": [],
   "source": [
    "for (_,labels) in train_loader:\n",
    "    for i in range(10):\n",
    "        train_labels[i] += (labels == i).sum().item()\n",
    "\n",
    "for (_,labels) in test_loader:\n",
    "    for i in range(10):\n",
    "        test_labels[i] += (labels == i).sum().item()"
   ]
  },
  {
   "cell_type": "code",
   "execution_count": 108,
   "metadata": {},
   "outputs": [
    {
     "data": {
      "text/plain": [
       "tensor([5, 9, 2, 7, 9, 7, 5, 5, 4, 8, 1, 8, 0, 6, 2, 6, 6, 6, 0, 9, 1, 9, 8, 0,\n",
       "        2, 2, 6, 3, 6, 3, 0, 3, 3, 9, 6, 0, 3, 0, 3, 6, 0, 9, 3, 6, 5, 7, 6, 9,\n",
       "        8, 3, 2, 8, 3, 4, 4, 1, 1, 9, 0, 8, 6, 7, 5, 1, 5, 6, 8, 8, 9, 4, 5, 9,\n",
       "        7, 1, 8, 2, 1, 5, 0, 3, 8, 5, 7, 9, 7, 1, 5, 9, 2, 0, 5, 6, 0, 8, 8, 8,\n",
       "        4, 9, 0, 0])"
      ]
     },
     "execution_count": 108,
     "metadata": {},
     "output_type": "execute_result"
    }
   ],
   "source": [
    "labels"
   ]
  },
  {
   "cell_type": "code",
   "execution_count": 99,
   "metadata": {},
   "outputs": [
    {
     "data": {
      "text/plain": [
       "10"
      ]
     },
     "execution_count": 99,
     "metadata": {},
     "output_type": "execute_result"
    }
   ],
   "source": [
    "(labels == 7).sum().item()"
   ]
  },
  {
   "cell_type": "code",
   "execution_count": 107,
   "metadata": {},
   "outputs": [
    {
     "data": {
      "text/plain": [
       "array([6000., 6000., 6000., 6000., 6000., 6000., 6000., 6000., 6000.,\n",
       "       6000.])"
      ]
     },
     "execution_count": 107,
     "metadata": {},
     "output_type": "execute_result"
    }
   ],
   "source": [
    "train_labels"
   ]
  },
  {
   "cell_type": "code",
   "execution_count": 112,
   "metadata": {},
   "outputs": [
    {
     "data": {
      "text/plain": [
       "array([1000., 1000., 1000., 1000., 1000., 1000., 1000., 1000., 1000.,\n",
       "       1000.])"
      ]
     },
     "execution_count": 112,
     "metadata": {},
     "output_type": "execute_result"
    }
   ],
   "source": [
    "test_labels"
   ]
  },
  {
   "cell_type": "markdown",
   "metadata": {},
   "source": [
    "### Plot Confusion Matrices for each model"
   ]
  },
  {
   "cell_type": "code",
   "execution_count": 113,
   "metadata": {},
   "outputs": [],
   "source": [
    "def plot_confusion_matrix(cm, classes, normalize=False, title='Confusion matrix', cmap=plt.cm.Blues):\n",
    "    if normalize:\n",
    "        cm = cm.astype('float') / cm.sum(axis=1)[:, np.newaxis]\n",
    "        print(\"Normalized confusion matrix\")\n",
    "    else:\n",
    "        print('Confusion matrix, without normalization')\n",
    "\n",
    "    print(cm)\n",
    "    plt.imshow(cm, interpolation='nearest', cmap=cmap)\n",
    "    plt.title(title)\n",
    "    plt.colorbar()\n",
    "    tick_marks = np.arange(len(classes))\n",
    "    plt.xticks(tick_marks, classes, rotation=45)\n",
    "    plt.yticks(tick_marks, classes)\n",
    "\n",
    "    fmt = '.2f' if normalize else 'd'\n",
    "    thresh = cm.max() / 2.\n",
    "    for i, j in itertools.product(range(cm.shape[0]), range(cm.shape[1])):\n",
    "        plt.text(j, i, format(cm[i, j], fmt), horizontalalignment=\"center\", color=\"white\" if cm[i, j] > thresh else \"black\")\n",
    "\n",
    "    plt.tight_layout()\n",
    "    plt.ylabel('True label')\n",
    "    plt.xlabel('Predicted label')\n",
    "    # Starting time\n",
    "start_time = time.time()\n",
    "\n",
    "# Number of swteps to unroll\n",
    "seq_dim = 28"
   ]
  },
  {
   "cell_type": "markdown",
   "metadata": {},
   "source": [
    "### RNN model"
   ]
  },
  {
   "cell_type": "code",
   "execution_count": 116,
   "metadata": {},
   "outputs": [
    {
     "data": {
      "text/plain": [
       "torch.Size([100, 1, 28, 28])"
      ]
     },
     "execution_count": 116,
     "metadata": {},
     "output_type": "execute_result"
    }
   ],
   "source": []
  },
  {
   "cell_type": "code",
   "execution_count": 118,
   "metadata": {},
   "outputs": [
    {
     "data": {
      "text/plain": [
       "1.8717496395111084"
      ]
     },
     "execution_count": 118,
     "metadata": {},
     "output_type": "execute_result"
    }
   ],
   "source": [
    "start = time.time()\n",
    "cmt = np.zeros((10,10),dtype=int)\n",
    "for (image, label) in test_loader:\n",
    "    image = image.view(-1, seq_dim, input_dim)\n",
    "    \n",
    "    output = model(image).argmax(axis=1)\n",
    "    for i in range(100):\n",
    "        cmt[label[i].item(),output[i].item()] += 1\n",
    "time.time() - start"
   ]
  },
  {
   "cell_type": "code",
   "execution_count": 119,
   "metadata": {},
   "outputs": [
    {
     "data": {
      "text/plain": [
       "array([[773,   0,  17,  71,   2,   2, 120,   0,  15,   0],\n",
       "       [  3, 936,   7,  39,   4,   6,   5,   0,   0,   0],\n",
       "       [ 13,   0, 771,  16, 134,   1,  57,   0,   7,   1],\n",
       "       [ 33,   5,  19, 880,  35,   1,  21,   0,   5,   1],\n",
       "       [  0,   1, 107,  33, 815,   0,  34,   0,  10,   0],\n",
       "       [  0,   0,   0,   0,   0, 978,   0,   9,   5,   8],\n",
       "       [156,   0, 130,  48, 156,   1, 479,   0,  30,   0],\n",
       "       [  0,   0,   0,   0,   0, 159,   0, 724,   0, 117],\n",
       "       [  1,   0,   7,   8,   0,   9,   8,   2, 965,   0],\n",
       "       [  0,   0,   0,   0,   0,  51,   0,  16,   1, 932]])"
      ]
     },
     "execution_count": 119,
     "metadata": {},
     "output_type": "execute_result"
    }
   ],
   "source": [
    "cmt"
   ]
  },
  {
   "cell_type": "code",
   "execution_count": 125,
   "metadata": {},
   "outputs": [],
   "source": [
    "plt.rcParams[\"figure.figsize\"] = (8,6)\n",
    "plt.rcParams.update({'font.size': 12})"
   ]
  },
  {
   "cell_type": "code",
   "execution_count": 127,
   "metadata": {},
   "outputs": [
    {
     "name": "stdout",
     "output_type": "stream",
     "text": [
      "Confusion matrix, without normalization\n",
      "[[773   0  17  71   2   2 120   0  15   0]\n",
      " [  3 936   7  39   4   6   5   0   0   0]\n",
      " [ 13   0 771  16 134   1  57   0   7   1]\n",
      " [ 33   5  19 880  35   1  21   0   5   1]\n",
      " [  0   1 107  33 815   0  34   0  10   0]\n",
      " [  0   0   0   0   0 978   0   9   5   8]\n",
      " [156   0 130  48 156   1 479   0  30   0]\n",
      " [  0   0   0   0   0 159   0 724   0 117]\n",
      " [  1   0   7   8   0   9   8   2 965   0]\n",
      " [  0   0   0   0   0  51   0  16   1 932]]\n"
     ]
    },
    {
     "data": {
      "image/png": "[encoded data removed]",
      "text/plain": [
       "<Figure size 576x432 with 2 Axes>"
      ]
     },
     "metadata": {
      "needs_background": "light"
     },
     "output_type": "display_data"
    }
   ],
   "source": [
    "plot_confusion_matrix(cmt, range(10))\n",
    "plt.savefig('rnn_confusion_matrix.png')"
   ]
  },
  {
   "cell_type": "markdown",
   "metadata": {},
   "source": [
    "### LSTM"
   ]
  },
  {
   "cell_type": "code",
   "execution_count": 129,
   "metadata": {},
   "outputs": [
    {
     "name": "stdout",
     "output_type": "stream",
     "text": [
      "Confusion matrix, without normalization\n",
      "[[861   2  12  19   3   1  94   0   8   0]\n",
      " [  6 969   1  15   3   0   6   0   0   0]\n",
      " [ 17   1 803  15 116   0  44   0   4   0]\n",
      " [ 44  11  13 878  37   0  14   0   3   0]\n",
      " [  0   1  81  24 850   0  41   0   3   0]\n",
      " [  1   0   0   0   0 963   0  24   1  11]\n",
      " [151   6  78  20 102   0 625   0  18   0]\n",
      " [  0   0   0   0   0  20   0 964   0  16]\n",
      " [  3   0   7   5   4   1   4   5 971   0]\n",
      " [  0   0   0   0   0  10   1  49   0 940]]\n"
     ]
    },
    {
     "data": {
      "image/png": "[encoded data removed]",
      "text/plain": [
       "<Figure size 576x432 with 2 Axes>"
      ]
     },
     "metadata": {
      "needs_background": "light"
     },
     "output_type": "display_data"
    }
   ],
   "source": [
    "start = time.time()\n",
    "cmt = np.zeros((10,10),dtype=int)\n",
    "for (image, label) in test_loader:\n",
    "    image = image.view(-1, seq_dim, input_dim)\n",
    "    \n",
    "    output = model(image).argmax(axis=1)\n",
    "    for i in range(100):\n",
    "        cmt[label[i].item(),output[i].item()] += 1\n",
    "time.time() - start\n",
    "\n",
    "plot_confusion_matrix(cmt, range(10))\n",
    "plt.savefig('lstm_confusion_matrix.png')"
   ]
  },
  {
   "cell_type": "markdown",
   "metadata": {},
   "source": [
    "## Let's try some other RNN/LSTM models (2-layer) and then we do the write-up"
   ]
  },
  {
   "cell_type": "code",
   "execution_count": 207,
   "metadata": {},
   "outputs": [],
   "source": [
    "## RNN 2-Hidden Layer + ReLU\n",
    "input_dim = 28\n",
    "hidden_dim = 100\n",
    "layer_dim = 2\n",
    "output_dim = 10\n",
    "\n",
    "model = RNNModel(input_dim, hidden_dim, layer_dim, output_dim)\n",
    "\n",
    "criterion = nn.CrossEntropyLoss()\n",
    "learning_rate = 0.01\n",
    "\n",
    "optimizer = torch.optim.SGD(model.parameters(), lr=learning_rate)  \n",
    "seq_dim = 28 \n",
    "num_epochs = 20"
   ]
  },
  {
   "cell_type": "code",
   "execution_count": 208,
   "metadata": {
    "scrolled": true
   },
   "outputs": [
    {
     "name": "stdout",
     "output_type": "stream",
     "text": [
      "Epoch: 1. Iteration: 600. Loss: 2.06. Accuracy: 26.68\n",
      "Epoch: 2. Iteration: 1200. Loss: 1.26. Accuracy: 50.63\n",
      "Epoch: 3. Iteration: 1800. Loss: 0.79. Accuracy: 62.91\n",
      "Epoch: 4. Iteration: 2400. Loss: 0.81. Accuracy: 70.89\n",
      "Epoch: 5. Iteration: 3000. Loss: 0.55. Accuracy: 73.54\n",
      "Epoch: 6. Iteration: 3600. Loss: 0.80. Accuracy: 72.28\n",
      "Epoch: 7. Iteration: 4200. Loss: 0.65. Accuracy: 72.47\n",
      "Epoch: 8. Iteration: 4800. Loss: 0.53. Accuracy: 70.49\n",
      "Epoch: 9. Iteration: 5400. Loss: 0.72. Accuracy: 72.73\n",
      "Epoch: 10. Iteration: 6000. Loss: 0.52. Accuracy: 80.36\n",
      "Epoch: 11. Iteration: 6600. Loss: 0.65. Accuracy: 80.84\n",
      "Epoch: 12. Iteration: 7200. Loss: 0.61. Accuracy: 81.97\n",
      "Epoch: 13. Iteration: 7800. Loss: 0.33. Accuracy: 82.89\n",
      "Epoch: 14. Iteration: 8400. Loss: 0.36. Accuracy: 82.78\n",
      "Epoch: 15. Iteration: 9000. Loss: 0.49. Accuracy: 83.33\n",
      "Epoch: 16. Iteration: 9600. Loss: 0.38. Accuracy: 82.13\n",
      "Epoch: 17. Iteration: 10200. Loss: 0.40. Accuracy: 84.28\n",
      "Epoch: 18. Iteration: 10800. Loss: 0.55. Accuracy: 84.45\n",
      "Epoch: 19. Iteration: 11400. Loss: 0.34. Accuracy: 83.43\n",
      "Epoch: 20. Iteration: 12000. Loss: 0.36. Accuracy: 84.90\n",
      "Total time: 872.03\n"
     ]
    }
   ],
   "source": [
    "iter = 0\n",
    "acc_prog = []\n",
    "loss_prog = []\n",
    "start_time = time.time()\n",
    "for epoch in range(num_epochs):\n",
    "    for i, (images, labels) in enumerate(train_loader):\n",
    "        #model.train()\n",
    "        \n",
    "        # Load images as tensors with gradient accumulation abilities\n",
    "        images = images.view(-1, seq_dim, input_dim).requires_grad_()\n",
    "        \n",
    "        # Clear gradients wrt parameters\n",
    "        optimizer.zero_grad()\n",
    "        \n",
    "        # Forward pass to get output/logits\n",
    "        # outputs.size() --> 100, 10\n",
    "        outputs = model(images)\n",
    "        \n",
    "        # Calculate Loss: softmax --> cross entropy loss\n",
    "        loss = criterion(outputs, labels)\n",
    "        \n",
    "        # Getting gradients wrt parameters\n",
    "        loss.backward()\n",
    "        \n",
    "        # Updating parameters\n",
    "        optimizer.step()\n",
    "        \n",
    "        iter += 1\n",
    "        \n",
    "    model.eval()\n",
    "\n",
    "    # Calculate Accuracy\n",
    "    correct = 0\n",
    "    total = 0\n",
    "\n",
    "    # Iterate through test dataset\n",
    "    for images, labels in test_loader:\n",
    "\n",
    "        # Load images to a Torch tensors with gradient accumulation abilities\n",
    "        images = images.view(-1, seq_dim, input_dim)\n",
    "\n",
    "        # Forward pass only to get logits/output\n",
    "        outputs = model(images)\n",
    "\n",
    "        # Get predictions from the maximum value\n",
    "        _, predicted = torch.max(outputs.data, 1)\n",
    "\n",
    "        # Total number of labels\n",
    "        total += labels.size(0)\n",
    "\n",
    "        # Total correct predictions\n",
    "        correct += float((predicted == labels).sum())\n",
    "\n",
    "    accuracy = 100 * correct / total\n",
    "\n",
    "    # Print Loss\n",
    "    acc_prog.append(accuracy)\n",
    "    print('Epoch: {}. Iteration: {}. Loss: {:.2f}. Accuracy: {:.2f}'.format(epoch+1, iter, loss.item(), accuracy))\n",
    "    loss_prog.append(loss.item())\n",
    "print('Total time: {:.2f}'.format(time.time()-start_time))"
   ]
  },
  {
   "cell_type": "code",
   "execution_count": 209,
   "metadata": {},
   "outputs": [],
   "source": [
    "rnn2_loss = loss_prog\n",
    "rnn2_acc = acc_prog"
   ]
  },
  {
   "cell_type": "code",
   "execution_count": 211,
   "metadata": {},
   "outputs": [
    {
     "name": "stdout",
     "output_type": "stream",
     "text": [
      "Confusion matrix, without normalization\n",
      "[[805   5  23  53   4   3  97   0   8   2]\n",
      " [  3 953   1  32   7   0   4   0   0   0]\n",
      " [ 14   1 791  17 136   1  39   0   1   0]\n",
      " [ 36  17  15 856  52   1  22   0   1   0]\n",
      " [  1   3 105  22 827   1  37   0   4   0]\n",
      " [  1   0   0   0   0 921   0  46   2  30]\n",
      " [205   0 144  40 111   0 486   0  14   0]\n",
      " [  0   0   0   0   0  15   0 954   0  31]\n",
      " [  0   0   9   5   5   3  10   5 962   1]\n",
      " [  0   0   1   1   0   9   0  54   0 935]]\n"
     ]
    },
    {
     "data": {
      "image/png": "[encoded data removed]",
      "text/plain": [
       "<Figure size 576x432 with 2 Axes>"
      ]
     },
     "metadata": {},
     "output_type": "display_data"
    }
   ],
   "source": [
    "start = time.time()\n",
    "sns.set_style(\"white\")\n",
    "cmt = np.zeros((10,10),dtype=int)\n",
    "for (image, label) in test_loader:\n",
    "    image = image.view(-1, seq_dim, input_dim)\n",
    "    \n",
    "    output = model(image).argmax(axis=1)\n",
    "    for i in range(100):\n",
    "        cmt[label[i].item(),output[i].item()] += 1\n",
    "time.time() - start\n",
    "\n",
    "plot_confusion_matrix(cmt, range(10))\n",
    "plt.savefig('rnn2_confusion_matrix.png')"
   ]
  },
  {
   "cell_type": "markdown",
   "metadata": {},
   "source": [
    "#### LSTM-2"
   ]
  },
  {
   "cell_type": "code",
   "execution_count": 254,
   "metadata": {},
   "outputs": [],
   "source": [
    "## RNN 2-Hidden Layer + ReLU\n",
    "input_dim = 28\n",
    "hidden_dim = 100\n",
    "layer_dim = 2\n",
    "output_dim = 10\n",
    "\n",
    "model = LSTMModel(input_dim, hidden_dim, layer_dim, output_dim)\n",
    "\n",
    "criterion = nn.CrossEntropyLoss()\n",
    "learning_rate = 0.01\n",
    "\n",
    "optimizer = torch.optim.SGD(model.parameters(), lr=learning_rate)  \n",
    "seq_dim = 28 \n",
    "num_epochs = 20"
   ]
  },
  {
   "cell_type": "code",
   "execution_count": 255,
   "metadata": {},
   "outputs": [
    {
     "name": "stdout",
     "output_type": "stream",
     "text": [
      "Epoch: 1. Iteration: 600. Loss: 2.29. Accuracy: 19.04\n",
      "Epoch: 2. Iteration: 1200. Loss: 2.27. Accuracy: 33.76\n",
      "Epoch: 3. Iteration: 1800. Loss: 2.24. Accuracy: 38.29\n",
      "Epoch: 4. Iteration: 2400. Loss: 1.92. Accuracy: 34.09\n",
      "Epoch: 5. Iteration: 3000. Loss: 1.55. Accuracy: 41.67\n",
      "Epoch: 6. Iteration: 3600. Loss: 1.32. Accuracy: 46.35\n",
      "Epoch: 7. Iteration: 4200. Loss: 1.18. Accuracy: 55.72\n",
      "Epoch: 8. Iteration: 4800. Loss: 0.96. Accuracy: 57.57\n",
      "Epoch: 9. Iteration: 5400. Loss: 0.87. Accuracy: 64.59\n",
      "Epoch: 10. Iteration: 6000. Loss: 0.87. Accuracy: 67.49\n",
      "Epoch: 11. Iteration: 6600. Loss: 0.74. Accuracy: 71.59\n",
      "Epoch: 12. Iteration: 7200. Loss: 0.72. Accuracy: 73.39\n",
      "Epoch: 13. Iteration: 7800. Loss: 0.69. Accuracy: 74.94\n",
      "Epoch: 14. Iteration: 8400. Loss: 0.72. Accuracy: 75.62\n",
      "Epoch: 15. Iteration: 9000. Loss: 0.47. Accuracy: 76.44\n",
      "Epoch: 16. Iteration: 9600. Loss: 0.59. Accuracy: 78.18\n",
      "Epoch: 17. Iteration: 10200. Loss: 0.52. Accuracy: 78.06\n",
      "Epoch: 18. Iteration: 10800. Loss: 0.60. Accuracy: 78.99\n",
      "Epoch: 19. Iteration: 11400. Loss: 0.49. Accuracy: 78.70\n",
      "Epoch: 20. Iteration: 12000. Loss: 0.59. Accuracy: 79.54\n",
      "Total time: 2195.52\n"
     ]
    }
   ],
   "source": [
    "iter = 0\n",
    "acc_prog = []\n",
    "loss_prog = []\n",
    "start_time = time.time()\n",
    "for epoch in range(num_epochs):\n",
    "    for i, (images, labels) in enumerate(train_loader):\n",
    "        #model.train()\n",
    "        \n",
    "        # Load images as tensors with gradient accumulation abilities\n",
    "        images = images.view(-1, seq_dim, input_dim).requires_grad_()\n",
    "        \n",
    "        # Clear gradients wrt parameters\n",
    "        optimizer.zero_grad()\n",
    "        \n",
    "        # Forward pass to get output/logits\n",
    "        # outputs.size() --> 100, 10\n",
    "        outputs = model(images)\n",
    "        \n",
    "        # Calculate Loss: softmax --> cross entropy loss\n",
    "        loss = criterion(outputs, labels)\n",
    "        \n",
    "        # Getting gradients wrt parameters\n",
    "        loss.backward()\n",
    "        \n",
    "        # Updating parameters\n",
    "        optimizer.step()\n",
    "        \n",
    "        iter += 1\n",
    "        \n",
    "    model.eval()\n",
    "\n",
    "    # Calculate Accuracy\n",
    "    correct = 0\n",
    "    total = 0\n",
    "\n",
    "    # Iterate through test dataset\n",
    "    for images, labels in test_loader:\n",
    "\n",
    "        # Load images to a Torch tensors with gradient accumulation abilities\n",
    "        images = images.view(-1, seq_dim, input_dim)\n",
    "\n",
    "        # Forward pass only to get logits/output\n",
    "        outputs = model(images)\n",
    "\n",
    "        # Get predictions from the maximum value\n",
    "        _, predicted = torch.max(outputs.data, 1)\n",
    "\n",
    "        # Total number of labels\n",
    "        total += labels.size(0)\n",
    "\n",
    "        # Total correct predictions\n",
    "        correct += float((predicted == labels).sum())\n",
    "\n",
    "    accuracy = 100 * correct / total\n",
    "\n",
    "    # Print Loss\n",
    "    acc_prog.append(accuracy)\n",
    "    print('Epoch: {}. Iteration: {}. Loss: {:.2f}. Accuracy: {:.2f}'.format(epoch+1, iter, loss.item(), accuracy))\n",
    "    loss_prog.append(loss.item())\n",
    "print('Total time: {:.2f}'.format(time.time()-start_time))"
   ]
  },
  {
   "cell_type": "code",
   "execution_count": 256,
   "metadata": {},
   "outputs": [],
   "source": [
    "lstm2_loss = loss_prog\n",
    "lstm2_acc = acc_prog"
   ]
  },
  {
   "cell_type": "code",
   "execution_count": 257,
   "metadata": {},
   "outputs": [
    {
     "name": "stdout",
     "output_type": "stream",
     "text": [
      "Confusion matrix, without normalization\n",
      "[[728   0  16  64  11   2 160   0  19   0]\n",
      " [  8 933  17  33   5   0   1   0   3   0]\n",
      " [  6   0 632  10 257   0  81   0  14   0]\n",
      " [ 39  17  21 806  81   0  32   0   4   0]\n",
      " [  1   1  84  22 840   0  46   0   6   0]\n",
      " [  0   0   0   0   0 904   2  62   4  28]\n",
      " [156   1 136  45 255   0 366   0  41   0]\n",
      " [  0   0   0   0   0  40   0 892   0  68]\n",
      " [  0   1  10   7   4  19  10   4 943   2]\n",
      " [  0   0   0   0   1  26   0  62   1 910]]\n"
     ]
    },
    {
     "data": {
      "image/png": "[encoded data removed]",
      "text/plain": [
       "<Figure size 576x432 with 2 Axes>"
      ]
     },
     "metadata": {},
     "output_type": "display_data"
    }
   ],
   "source": [
    "start = time.time()\n",
    "sns.set_style(\"white\")\n",
    "cmt = np.zeros((10,10),dtype=int)\n",
    "for (image, label) in test_loader:\n",
    "    image = image.view(-1, seq_dim, input_dim)\n",
    "    \n",
    "    output = model(image).argmax(axis=1)\n",
    "    for i in range(100):\n",
    "        cmt[label[i].item(),output[i].item()] += 1\n",
    "time.time() - start\n",
    "\n",
    "plot_confusion_matrix(cmt, range(10))\n",
    "plt.savefig('lstm2_confusion_matrix.png')"
   ]
  },
  {
   "cell_type": "markdown",
   "metadata": {},
   "source": [
    "#### RNN-1"
   ]
  },
  {
   "cell_type": "code",
   "execution_count": 216,
   "metadata": {},
   "outputs": [],
   "source": [
    "input_dim = 28\n",
    "hidden_dim = 100\n",
    "layer_dim = 1\n",
    "output_dim = 10\n",
    "\n",
    "model = RNNModel(input_dim, hidden_dim, layer_dim, output_dim)\n",
    "criterion = nn.CrossEntropyLoss()\n",
    "learning_rate = 0.01\n",
    "optimizer = torch.optim.SGD(model.parameters(), lr=learning_rate)"
   ]
  },
  {
   "cell_type": "code",
   "execution_count": 217,
   "metadata": {},
   "outputs": [
    {
     "name": "stdout",
     "output_type": "stream",
     "text": [
      "Epoch: 1. Iteration: 600. Loss: 1.73. Accuracy: 26.54\n",
      "Epoch: 2. Iteration: 1200. Loss: 1.37. Accuracy: 46.11\n",
      "Epoch: 3. Iteration: 1800. Loss: 1.20. Accuracy: 59.55\n",
      "Epoch: 4. Iteration: 2400. Loss: 0.85. Accuracy: 67.90\n",
      "Epoch: 5. Iteration: 3000. Loss: 0.90. Accuracy: 57.59\n",
      "Epoch: 6. Iteration: 3600. Loss: 0.57. Accuracy: 74.43\n",
      "Epoch: 7. Iteration: 4200. Loss: 0.58. Accuracy: 75.63\n",
      "Epoch: 8. Iteration: 4800. Loss: 0.56. Accuracy: 78.09\n",
      "Epoch: 9. Iteration: 5400. Loss: 0.53. Accuracy: 77.10\n",
      "Epoch: 10. Iteration: 6000. Loss: 0.54. Accuracy: 79.80\n",
      "Epoch: 11. Iteration: 6600. Loss: 0.85. Accuracy: 68.99\n",
      "Epoch: 12. Iteration: 7200. Loss: 0.55. Accuracy: 80.80\n",
      "Epoch: 13. Iteration: 7800. Loss: 0.55. Accuracy: 76.96\n",
      "Epoch: 14. Iteration: 8400. Loss: 0.56. Accuracy: 79.78\n",
      "Epoch: 15. Iteration: 9000. Loss: 0.50. Accuracy: 81.20\n",
      "Epoch: 16. Iteration: 9600. Loss: 0.44. Accuracy: 82.32\n",
      "Epoch: 17. Iteration: 10200. Loss: 0.34. Accuracy: 81.70\n",
      "Epoch: 18. Iteration: 10800. Loss: 0.34. Accuracy: 81.86\n",
      "Epoch: 19. Iteration: 11400. Loss: 0.49. Accuracy: 82.08\n",
      "Epoch: 20. Iteration: 12000. Loss: 0.37. Accuracy: 82.10\n",
      "Total time: 577.76\n"
     ]
    }
   ],
   "source": [
    "iter = 0\n",
    "acc_prog = []\n",
    "loss_prog = []\n",
    "start_time = time.time()\n",
    "for epoch in range(num_epochs):\n",
    "    for i, (images, labels) in enumerate(train_loader):\n",
    "        #model.train()\n",
    "        \n",
    "        # Load images as tensors with gradient accumulation abilities\n",
    "        images = images.view(-1, seq_dim, input_dim).requires_grad_()\n",
    "        \n",
    "        # Clear gradients wrt parameters\n",
    "        optimizer.zero_grad()\n",
    "        \n",
    "        # Forward pass to get output/logits\n",
    "        # outputs.size() --> 100, 10\n",
    "        outputs = model(images)\n",
    "        \n",
    "        # Calculate Loss: softmax --> cross entropy loss\n",
    "        loss = criterion(outputs, labels)\n",
    "        \n",
    "        # Getting gradients wrt parameters\n",
    "        loss.backward()\n",
    "        \n",
    "        # Updating parameters\n",
    "        optimizer.step()\n",
    "        \n",
    "        iter += 1\n",
    "        \n",
    "    model.eval()\n",
    "\n",
    "    # Calculate Accuracy\n",
    "    correct = 0\n",
    "    total = 0\n",
    "\n",
    "    # Iterate through test dataset\n",
    "    for images, labels in test_loader:\n",
    "\n",
    "        # Load images to a Torch tensors with gradient accumulation abilities\n",
    "        images = images.view(-1, seq_dim, input_dim)\n",
    "\n",
    "        # Forward pass only to get logits/output\n",
    "        outputs = model(images)\n",
    "\n",
    "        # Get predictions from the maximum value\n",
    "        _, predicted = torch.max(outputs.data, 1)\n",
    "\n",
    "        # Total number of labels\n",
    "        total += labels.size(0)\n",
    "\n",
    "        # Total correct predictions\n",
    "        correct += float((predicted == labels).sum())\n",
    "\n",
    "    accuracy = 100 * correct / total\n",
    "\n",
    "    # Print Loss\n",
    "    acc_prog.append(accuracy)\n",
    "    print('Epoch: {}. Iteration: {}. Loss: {:.2f}. Accuracy: {:.2f}'.format(epoch+1, iter, loss.item(), accuracy))\n",
    "    loss_prog.append(loss.item())\n",
    "print('Total time: {:.2f}'.format(time.time()-start_time))"
   ]
  },
  {
   "cell_type": "code",
   "execution_count": 218,
   "metadata": {},
   "outputs": [],
   "source": [
    "rnn1_loss = loss_prog\n",
    "rnn1_acc = acc_prog"
   ]
  },
  {
   "cell_type": "code",
   "execution_count": 219,
   "metadata": {},
   "outputs": [
    {
     "name": "stdout",
     "output_type": "stream",
     "text": [
      "Confusion matrix, without normalization\n",
      "[[849   5  37  36   3   1  60   0   9   0]\n",
      " [  5 963   7  19   4   0   2   0   0   0]\n",
      " [ 18   4 731   7 163   0  67   0   9   1]\n",
      " [ 58   7  16 817  47   1  48   0   6   0]\n",
      " [  1   1 108  35 761   1  90   0   2   1]\n",
      " [  0   0   0   0   0 887   0  70   6  37]\n",
      " [233   1 170  22 106   0 451   0  17   0]\n",
      " [  0   0   0   0   0   6   0 845   0 149]\n",
      " [  4   1  25   6   2  10   8   8 935   1]\n",
      " [  0   0   1   1   0   8   0  18   1 971]]\n"
     ]
    },
    {
     "data": {
      "image/png": "[encoded data removed]",
      "text/plain": [
       "<Figure size 576x432 with 2 Axes>"
      ]
     },
     "metadata": {},
     "output_type": "display_data"
    }
   ],
   "source": [
    "start = time.time()\n",
    "sns.set_style(\"white\")\n",
    "cmt = np.zeros((10,10),dtype=int)\n",
    "for (image, label) in test_loader:\n",
    "    image = image.view(-1, seq_dim, input_dim)\n",
    "    \n",
    "    output = model(image).argmax(axis=1)\n",
    "    for i in range(100):\n",
    "        cmt[label[i].item(),output[i].item()] += 1\n",
    "time.time() - start\n",
    "\n",
    "plot_confusion_matrix(cmt, range(10))\n",
    "plt.savefig('rnn1_confusion_matrix.png')"
   ]
  },
  {
   "cell_type": "markdown",
   "metadata": {},
   "source": [
    "#### LSTM-1"
   ]
  },
  {
   "cell_type": "code",
   "execution_count": 220,
   "metadata": {},
   "outputs": [],
   "source": [
    "input_dim = 28\n",
    "hidden_dim = 100\n",
    "layer_dim = 1\n",
    "output_dim = 10\n",
    "\n",
    "#device = torch.device('cpu')\n",
    "model = LSTMModel(input_dim, hidden_dim, layer_dim, output_dim)\n",
    "criterion = nn.CrossEntropyLoss()\n",
    "loss = torch.nn.CrossEntropyLoss(reduction='elementwise_mean')\n",
    "optimizer = torch.optim.SGD(model.parameters(), lr=0.01, momentum=0.9)"
   ]
  },
  {
   "cell_type": "code",
   "execution_count": 221,
   "metadata": {},
   "outputs": [
    {
     "name": "stdout",
     "output_type": "stream",
     "text": [
      "Epoch: 1. Iteration: 600. Loss: 0.79. Accuracy: 66.26\n",
      "Epoch: 2. Iteration: 1200. Loss: 0.70. Accuracy: 75.68\n",
      "Epoch: 3. Iteration: 1800. Loss: 0.45. Accuracy: 79.42\n",
      "Epoch: 4. Iteration: 2400. Loss: 0.45. Accuracy: 83.28\n",
      "Epoch: 5. Iteration: 3000. Loss: 0.47. Accuracy: 84.38\n",
      "Epoch: 6. Iteration: 3600. Loss: 0.41. Accuracy: 84.39\n",
      "Epoch: 7. Iteration: 4200. Loss: 0.31. Accuracy: 84.21\n",
      "Epoch: 8. Iteration: 4800. Loss: 0.33. Accuracy: 85.59\n",
      "Epoch: 9. Iteration: 5400. Loss: 0.19. Accuracy: 86.11\n",
      "Epoch: 10. Iteration: 6000. Loss: 0.42. Accuracy: 86.47\n",
      "Epoch: 11. Iteration: 6600. Loss: 0.34. Accuracy: 85.77\n",
      "Epoch: 12. Iteration: 7200. Loss: 0.42. Accuracy: 86.23\n",
      "Epoch: 13. Iteration: 7800. Loss: 0.29. Accuracy: 86.73\n",
      "Epoch: 14. Iteration: 8400. Loss: 0.16. Accuracy: 86.83\n",
      "Epoch: 15. Iteration: 9000. Loss: 0.29. Accuracy: 87.08\n",
      "Epoch: 16. Iteration: 9600. Loss: 0.30. Accuracy: 87.44\n",
      "Epoch: 17. Iteration: 10200. Loss: 0.39. Accuracy: 87.87\n",
      "Epoch: 18. Iteration: 10800. Loss: 0.25. Accuracy: 87.60\n",
      "Epoch: 19. Iteration: 11400. Loss: 0.36. Accuracy: 87.36\n",
      "Epoch: 20. Iteration: 12000. Loss: 0.28. Accuracy: 87.78\n",
      "Total time: 1192.22\n"
     ]
    }
   ],
   "source": [
    "iter = 0\n",
    "acc_prog = []\n",
    "loss_prog = []\n",
    "start_time = time.time()\n",
    "for epoch in range(num_epochs):\n",
    "    for i, (images, labels) in enumerate(train_loader):\n",
    "        #model.train()\n",
    "        \n",
    "        # Load images as tensors with gradient accumulation abilities\n",
    "        images = images.view(-1, seq_dim, input_dim).requires_grad_()\n",
    "        \n",
    "        # Clear gradients wrt parameters\n",
    "        optimizer.zero_grad()\n",
    "        \n",
    "        # Forward pass to get output/logits\n",
    "        # outputs.size() --> 100, 10\n",
    "        outputs = model(images)\n",
    "        \n",
    "        # Calculate Loss: softmax --> cross entropy loss\n",
    "        loss = criterion(outputs, labels)\n",
    "        \n",
    "        # Getting gradients wrt parameters\n",
    "        loss.backward()\n",
    "        \n",
    "        # Updating parameters\n",
    "        optimizer.step()\n",
    "        \n",
    "        iter += 1\n",
    "        \n",
    "    model.eval()\n",
    "\n",
    "    # Calculate Accuracy\n",
    "    correct = 0\n",
    "    total = 0\n",
    "\n",
    "    # Iterate through test dataset\n",
    "    for images, labels in test_loader:\n",
    "\n",
    "        # Load images to a Torch tensors with gradient accumulation abilities\n",
    "        images = images.view(-1, seq_dim, input_dim)\n",
    "\n",
    "        # Forward pass only to get logits/output\n",
    "        outputs = model(images)\n",
    "\n",
    "        # Get predictions from the maximum value\n",
    "        _, predicted = torch.max(outputs.data, 1)\n",
    "\n",
    "        # Total number of labels\n",
    "        total += labels.size(0)\n",
    "\n",
    "        # Total correct predictions\n",
    "        correct += float((predicted == labels).sum())\n",
    "\n",
    "    accuracy = 100 * correct / total\n",
    "\n",
    "    # Print Loss\n",
    "    acc_prog.append(accuracy)\n",
    "    print('Epoch: {}. Iteration: {}. Loss: {:.2f}. Accuracy: {:.2f}'.format(epoch+1, iter, loss.item(), accuracy))\n",
    "    loss_prog.append(loss.item())\n",
    "print('Total time: {:.2f}'.format(time.time()-start_time))"
   ]
  },
  {
   "cell_type": "code",
   "execution_count": 222,
   "metadata": {},
   "outputs": [],
   "source": [
    "lstm1_loss = loss_prog\n",
    "lstm1_acc = acc_prog"
   ]
  },
  {
   "cell_type": "code",
   "execution_count": 223,
   "metadata": {},
   "outputs": [
    {
     "name": "stdout",
     "output_type": "stream",
     "text": [
      "Confusion matrix, without normalization\n",
      "[[815   0  19  41   3   1 113   1   7   0]\n",
      " [  6 963   0  22   3   0   4   0   2   0]\n",
      " [ 15   0 828  14  81   0  55   0   7   0]\n",
      " [ 16   8  15 899  34   1  22   0   5   0]\n",
      " [  1   1 110  30 803   1  52   0   2   0]\n",
      " [  0   1   0   0   0 917   0  59   2  21]\n",
      " [124   2  92  42  80   1 647   0  12   0]\n",
      " [  0   0   0   0   0   3   0 978   0  19]\n",
      " [  3   0   4   4   5   2   2   7 971   2]\n",
      " [  0   0   0   0   0   4   1  38   0 957]]\n"
     ]
    },
    {
     "data": {
      "image/png": "[encoded data removed]",
      "text/plain": [
       "<Figure size 576x432 with 2 Axes>"
      ]
     },
     "metadata": {},
     "output_type": "display_data"
    }
   ],
   "source": [
    "start = time.time()\n",
    "sns.set_style(\"white\")\n",
    "cmt = np.zeros((10,10),dtype=int)\n",
    "for (image, label) in test_loader:\n",
    "    image = image.view(-1, seq_dim, input_dim)\n",
    "    \n",
    "    output = model(image).argmax(axis=1)\n",
    "    for i in range(100):\n",
    "        cmt[label[i].item(),output[i].item()] += 1\n",
    "time.time() - start\n",
    "\n",
    "plot_confusion_matrix(cmt, range(10))\n",
    "plt.savefig('lstm1_confusion_matrix.png')"
   ]
  },
  {
   "cell_type": "code",
   "execution_count": 201,
   "metadata": {},
   "outputs": [
    {
     "data": {
      "text/plain": [
       "20"
      ]
     },
     "execution_count": 201,
     "metadata": {},
     "output_type": "execute_result"
    }
   ],
   "source": [
    "len(lstm1_loss)"
   ]
  },
  {
   "cell_type": "code",
   "execution_count": 202,
   "metadata": {},
   "outputs": [
    {
     "data": {
      "text/plain": [
       "[56.45,\n",
       " 74.79,\n",
       " 78.17,\n",
       " 78.18,\n",
       " 82.13,\n",
       " 83.3,\n",
       " 84.19,\n",
       " 84.14,\n",
       " 85.16,\n",
       " 85.78,\n",
       " 85.82,\n",
       " 85.41,\n",
       " 86.11,\n",
       " 84.85,\n",
       " 85.89,\n",
       " 86.96,\n",
       " 86.68,\n",
       " 86.5,\n",
       " 87.28,\n",
       " 87.43,\n",
       " 87.68,\n",
       " 87.89,\n",
       " 87.8,\n",
       " 87.53]"
      ]
     },
     "execution_count": 202,
     "metadata": {},
     "output_type": "execute_result"
    }
   ],
   "source": [
    "lstm1_acc"
   ]
  },
  {
   "cell_type": "code",
   "execution_count": 200,
   "metadata": {},
   "outputs": [
    {
     "data": {
      "text/plain": [
       "24"
      ]
     },
     "execution_count": 200,
     "metadata": {},
     "output_type": "execute_result"
    }
   ],
   "source": [
    "len(lstm1_acc)"
   ]
  },
  {
   "cell_type": "markdown",
   "metadata": {},
   "source": [
    "### Print the progression of the loss functions"
   ]
  },
  {
   "cell_type": "code",
   "execution_count": 133,
   "metadata": {},
   "outputs": [
    {
     "data": {
      "text/plain": [
       "20"
      ]
     },
     "execution_count": 133,
     "metadata": {},
     "output_type": "execute_result"
    }
   ],
   "source": [
    "len(loss_prog)"
   ]
  },
  {
   "cell_type": "code",
   "execution_count": 139,
   "metadata": {},
   "outputs": [],
   "source": [
    "loss_prog = np.array(loss_prog)"
   ]
  },
  {
   "cell_type": "code",
   "execution_count": 179,
   "metadata": {},
   "outputs": [],
   "source": [
    "loss_prog_rnn2 = loss_prog"
   ]
  },
  {
   "cell_type": "code",
   "execution_count": 236,
   "metadata": {
    "scrolled": true
   },
   "outputs": [],
   "source": [
    "loss_progression = pd.DataFrame(index=list(range(1,21)))"
   ]
  },
  {
   "cell_type": "code",
   "execution_count": 166,
   "metadata": {
    "collapsed": true
   },
   "outputs": [
    {
     "data": {
      "text/html": [
       "<div>\n",
       "<style scoped>\n",
       "    .dataframe tbody tr th:only-of-type {\n",
       "        vertical-align: middle;\n",
       "    }\n",
       "\n",
       "    .dataframe tbody tr th {\n",
       "        vertical-align: top;\n",
       "    }\n",
       "\n",
       "    .dataframe thead th {\n",
       "        text-align: right;\n",
       "    }\n",
       "</style>\n",
       "<table border=\"1\" class=\"dataframe\">\n",
       "  <thead>\n",
       "    <tr style=\"text-align: right;\">\n",
       "      <th></th>\n",
       "    </tr>\n",
       "  </thead>\n",
       "  <tbody>\n",
       "    <tr>\n",
       "      <th>1</th>\n",
       "    </tr>\n",
       "    <tr>\n",
       "      <th>2</th>\n",
       "    </tr>\n",
       "    <tr>\n",
       "      <th>3</th>\n",
       "    </tr>\n",
       "    <tr>\n",
       "      <th>4</th>\n",
       "    </tr>\n",
       "    <tr>\n",
       "      <th>5</th>\n",
       "    </tr>\n",
       "    <tr>\n",
       "      <th>6</th>\n",
       "    </tr>\n",
       "    <tr>\n",
       "      <th>7</th>\n",
       "    </tr>\n",
       "    <tr>\n",
       "      <th>8</th>\n",
       "    </tr>\n",
       "    <tr>\n",
       "      <th>9</th>\n",
       "    </tr>\n",
       "    <tr>\n",
       "      <th>10</th>\n",
       "    </tr>\n",
       "    <tr>\n",
       "      <th>11</th>\n",
       "    </tr>\n",
       "    <tr>\n",
       "      <th>12</th>\n",
       "    </tr>\n",
       "    <tr>\n",
       "      <th>13</th>\n",
       "    </tr>\n",
       "    <tr>\n",
       "      <th>14</th>\n",
       "    </tr>\n",
       "    <tr>\n",
       "      <th>15</th>\n",
       "    </tr>\n",
       "    <tr>\n",
       "      <th>16</th>\n",
       "    </tr>\n",
       "    <tr>\n",
       "      <th>17</th>\n",
       "    </tr>\n",
       "    <tr>\n",
       "      <th>18</th>\n",
       "    </tr>\n",
       "    <tr>\n",
       "      <th>19</th>\n",
       "    </tr>\n",
       "    <tr>\n",
       "      <th>20</th>\n",
       "    </tr>\n",
       "  </tbody>\n",
       "</table>\n",
       "</div>"
      ],
      "text/plain": [
       "Empty DataFrame\n",
       "Columns: []\n",
       "Index: [1, 2, 3, 4, 5, 6, 7, 8, 9, 10, 11, 12, 13, 14, 15, 16, 17, 18, 19, 20]"
      ]
     },
     "execution_count": 166,
     "metadata": {},
     "output_type": "execute_result"
    }
   ],
   "source": [
    "loss_progression"
   ]
  },
  {
   "cell_type": "code",
   "execution_count": 237,
   "metadata": {},
   "outputs": [],
   "source": [
    "for idx in range(20):\n",
    "    #loss_progression.loc['epoch',idx+1] = idx+1\n",
    "    #loss_progression.loc[idx+1,'epoch'] = idx+1\n",
    "    loss_progression.loc[idx+1,'rnn1_loss'] = rnn1_loss[idx]\n",
    "    loss_progression.loc[idx+1,'lstm1_loss'] = lstm1_loss[idx]\n",
    "    loss_progression.loc[idx+1,'rnn2_loss'] = rnn2_loss[idx]\n",
    "    loss_progression.loc[idx+1,'latm2_loss'] = lstm2_loss[idx]"
   ]
  },
  {
   "cell_type": "code",
   "execution_count": 231,
   "metadata": {},
   "outputs": [
    {
     "data": {
      "text/html": [
       "<div>\n",
       "<style scoped>\n",
       "    .dataframe tbody tr th:only-of-type {\n",
       "        vertical-align: middle;\n",
       "    }\n",
       "\n",
       "    .dataframe tbody tr th {\n",
       "        vertical-align: top;\n",
       "    }\n",
       "\n",
       "    .dataframe thead th {\n",
       "        text-align: right;\n",
       "    }\n",
       "</style>\n",
       "<table border=\"1\" class=\"dataframe\">\n",
       "  <thead>\n",
       "    <tr style=\"text-align: right;\">\n",
       "      <th></th>\n",
       "      <th>loss</th>\n",
       "      <th>rnn1_loss</th>\n",
       "      <th>lstm1_loss</th>\n",
       "      <th>rnn2_loss</th>\n",
       "      <th>latm2_loss</th>\n",
       "      <th>epoch</th>\n",
       "    </tr>\n",
       "  </thead>\n",
       "  <tbody>\n",
       "    <tr>\n",
       "      <th>1</th>\n",
       "      <td>1.967526</td>\n",
       "      <td>1.732387</td>\n",
       "      <td>0.793274</td>\n",
       "      <td>2.056529</td>\n",
       "      <td>2.290127</td>\n",
       "      <td>1.0</td>\n",
       "    </tr>\n",
       "    <tr>\n",
       "      <th>2</th>\n",
       "      <td>1.094035</td>\n",
       "      <td>1.365631</td>\n",
       "      <td>0.702800</td>\n",
       "      <td>1.260987</td>\n",
       "      <td>2.271007</td>\n",
       "      <td>2.0</td>\n",
       "    </tr>\n",
       "    <tr>\n",
       "      <th>3</th>\n",
       "      <td>0.863364</td>\n",
       "      <td>1.197622</td>\n",
       "      <td>0.453207</td>\n",
       "      <td>0.788978</td>\n",
       "      <td>2.207942</td>\n",
       "      <td>3.0</td>\n",
       "    </tr>\n",
       "    <tr>\n",
       "      <th>4</th>\n",
       "      <td>1.040628</td>\n",
       "      <td>0.850907</td>\n",
       "      <td>0.452646</td>\n",
       "      <td>0.805871</td>\n",
       "      <td>1.949831</td>\n",
       "      <td>4.0</td>\n",
       "    </tr>\n",
       "    <tr>\n",
       "      <th>5</th>\n",
       "      <td>0.698232</td>\n",
       "      <td>0.897887</td>\n",
       "      <td>0.471262</td>\n",
       "      <td>0.547945</td>\n",
       "      <td>1.536089</td>\n",
       "      <td>5.0</td>\n",
       "    </tr>\n",
       "    <tr>\n",
       "      <th>6</th>\n",
       "      <td>0.680236</td>\n",
       "      <td>0.569043</td>\n",
       "      <td>0.411741</td>\n",
       "      <td>0.797101</td>\n",
       "      <td>1.418236</td>\n",
       "      <td>6.0</td>\n",
       "    </tr>\n",
       "    <tr>\n",
       "      <th>7</th>\n",
       "      <td>0.829712</td>\n",
       "      <td>0.578166</td>\n",
       "      <td>0.308775</td>\n",
       "      <td>0.653931</td>\n",
       "      <td>1.176257</td>\n",
       "      <td>7.0</td>\n",
       "    </tr>\n",
       "    <tr>\n",
       "      <th>8</th>\n",
       "      <td>0.617760</td>\n",
       "      <td>0.558984</td>\n",
       "      <td>0.325326</td>\n",
       "      <td>0.532157</td>\n",
       "      <td>1.052017</td>\n",
       "      <td>8.0</td>\n",
       "    </tr>\n",
       "    <tr>\n",
       "      <th>9</th>\n",
       "      <td>0.557893</td>\n",
       "      <td>0.529462</td>\n",
       "      <td>0.193655</td>\n",
       "      <td>0.724055</td>\n",
       "      <td>0.921535</td>\n",
       "      <td>9.0</td>\n",
       "    </tr>\n",
       "    <tr>\n",
       "      <th>10</th>\n",
       "      <td>0.501368</td>\n",
       "      <td>0.536049</td>\n",
       "      <td>0.419489</td>\n",
       "      <td>0.516485</td>\n",
       "      <td>0.911709</td>\n",
       "      <td>10.0</td>\n",
       "    </tr>\n",
       "    <tr>\n",
       "      <th>11</th>\n",
       "      <td>0.477772</td>\n",
       "      <td>0.852171</td>\n",
       "      <td>0.337624</td>\n",
       "      <td>0.649801</td>\n",
       "      <td>0.795339</td>\n",
       "      <td>11.0</td>\n",
       "    </tr>\n",
       "    <tr>\n",
       "      <th>12</th>\n",
       "      <td>0.370733</td>\n",
       "      <td>0.554420</td>\n",
       "      <td>0.417113</td>\n",
       "      <td>0.608612</td>\n",
       "      <td>0.816335</td>\n",
       "      <td>12.0</td>\n",
       "    </tr>\n",
       "    <tr>\n",
       "      <th>13</th>\n",
       "      <td>0.480194</td>\n",
       "      <td>0.548448</td>\n",
       "      <td>0.290367</td>\n",
       "      <td>0.334021</td>\n",
       "      <td>0.658220</td>\n",
       "      <td>13.0</td>\n",
       "    </tr>\n",
       "    <tr>\n",
       "      <th>14</th>\n",
       "      <td>0.494792</td>\n",
       "      <td>0.563668</td>\n",
       "      <td>0.156251</td>\n",
       "      <td>0.361397</td>\n",
       "      <td>0.630030</td>\n",
       "      <td>14.0</td>\n",
       "    </tr>\n",
       "    <tr>\n",
       "      <th>15</th>\n",
       "      <td>0.549375</td>\n",
       "      <td>0.498542</td>\n",
       "      <td>0.293377</td>\n",
       "      <td>0.485009</td>\n",
       "      <td>0.756978</td>\n",
       "      <td>15.0</td>\n",
       "    </tr>\n",
       "    <tr>\n",
       "      <th>16</th>\n",
       "      <td>0.415215</td>\n",
       "      <td>0.444531</td>\n",
       "      <td>0.297709</td>\n",
       "      <td>0.379528</td>\n",
       "      <td>0.532466</td>\n",
       "      <td>16.0</td>\n",
       "    </tr>\n",
       "    <tr>\n",
       "      <th>17</th>\n",
       "      <td>0.468139</td>\n",
       "      <td>0.344667</td>\n",
       "      <td>0.394383</td>\n",
       "      <td>0.399001</td>\n",
       "      <td>0.444660</td>\n",
       "      <td>17.0</td>\n",
       "    </tr>\n",
       "    <tr>\n",
       "      <th>18</th>\n",
       "      <td>0.604969</td>\n",
       "      <td>0.336928</td>\n",
       "      <td>0.248316</td>\n",
       "      <td>0.552929</td>\n",
       "      <td>0.774396</td>\n",
       "      <td>18.0</td>\n",
       "    </tr>\n",
       "    <tr>\n",
       "      <th>19</th>\n",
       "      <td>0.486842</td>\n",
       "      <td>0.493490</td>\n",
       "      <td>0.360826</td>\n",
       "      <td>0.338397</td>\n",
       "      <td>0.455523</td>\n",
       "      <td>19.0</td>\n",
       "    </tr>\n",
       "    <tr>\n",
       "      <th>20</th>\n",
       "      <td>0.563542</td>\n",
       "      <td>0.367606</td>\n",
       "      <td>0.281983</td>\n",
       "      <td>0.358894</td>\n",
       "      <td>0.589311</td>\n",
       "      <td>20.0</td>\n",
       "    </tr>\n",
       "  </tbody>\n",
       "</table>\n",
       "</div>"
      ],
      "text/plain": [
       "        loss  rnn1_loss  lstm1_loss  rnn2_loss  latm2_loss  epoch\n",
       "1   1.967526   1.732387    0.793274   2.056529    2.290127    1.0\n",
       "2   1.094035   1.365631    0.702800   1.260987    2.271007    2.0\n",
       "3   0.863364   1.197622    0.453207   0.788978    2.207942    3.0\n",
       "4   1.040628   0.850907    0.452646   0.805871    1.949831    4.0\n",
       "5   0.698232   0.897887    0.471262   0.547945    1.536089    5.0\n",
       "6   0.680236   0.569043    0.411741   0.797101    1.418236    6.0\n",
       "7   0.829712   0.578166    0.308775   0.653931    1.176257    7.0\n",
       "8   0.617760   0.558984    0.325326   0.532157    1.052017    8.0\n",
       "9   0.557893   0.529462    0.193655   0.724055    0.921535    9.0\n",
       "10  0.501368   0.536049    0.419489   0.516485    0.911709   10.0\n",
       "11  0.477772   0.852171    0.337624   0.649801    0.795339   11.0\n",
       "12  0.370733   0.554420    0.417113   0.608612    0.816335   12.0\n",
       "13  0.480194   0.548448    0.290367   0.334021    0.658220   13.0\n",
       "14  0.494792   0.563668    0.156251   0.361397    0.630030   14.0\n",
       "15  0.549375   0.498542    0.293377   0.485009    0.756978   15.0\n",
       "16  0.415215   0.444531    0.297709   0.379528    0.532466   16.0\n",
       "17  0.468139   0.344667    0.394383   0.399001    0.444660   17.0\n",
       "18  0.604969   0.336928    0.248316   0.552929    0.774396   18.0\n",
       "19  0.486842   0.493490    0.360826   0.338397    0.455523   19.0\n",
       "20  0.563542   0.367606    0.281983   0.358894    0.589311   20.0"
      ]
     },
     "execution_count": 231,
     "metadata": {},
     "output_type": "execute_result"
    }
   ],
   "source": [
    "loss_progression"
   ]
  },
  {
   "cell_type": "code",
   "execution_count": 158,
   "metadata": {},
   "outputs": [
    {
     "data": {
      "text/html": [
       "<div>\n",
       "<style scoped>\n",
       "    .dataframe tbody tr th:only-of-type {\n",
       "        vertical-align: middle;\n",
       "    }\n",
       "\n",
       "    .dataframe tbody tr th {\n",
       "        vertical-align: top;\n",
       "    }\n",
       "\n",
       "    .dataframe thead th {\n",
       "        text-align: right;\n",
       "    }\n",
       "</style>\n",
       "<table border=\"1\" class=\"dataframe\">\n",
       "  <thead>\n",
       "    <tr style=\"text-align: right;\">\n",
       "      <th></th>\n",
       "      <th>epoch</th>\n",
       "      <th>loss</th>\n",
       "    </tr>\n",
       "  </thead>\n",
       "  <tbody>\n",
       "    <tr>\n",
       "      <th>1</th>\n",
       "      <td>1</td>\n",
       "      <td>1.96753</td>\n",
       "    </tr>\n",
       "    <tr>\n",
       "      <th>2</th>\n",
       "      <td>2</td>\n",
       "      <td>1.09404</td>\n",
       "    </tr>\n",
       "    <tr>\n",
       "      <th>3</th>\n",
       "      <td>3</td>\n",
       "      <td>0.863364</td>\n",
       "    </tr>\n",
       "    <tr>\n",
       "      <th>4</th>\n",
       "      <td>4</td>\n",
       "      <td>1.04063</td>\n",
       "    </tr>\n",
       "    <tr>\n",
       "      <th>5</th>\n",
       "      <td>5</td>\n",
       "      <td>0.698232</td>\n",
       "    </tr>\n",
       "    <tr>\n",
       "      <th>6</th>\n",
       "      <td>6</td>\n",
       "      <td>0.680236</td>\n",
       "    </tr>\n",
       "    <tr>\n",
       "      <th>7</th>\n",
       "      <td>7</td>\n",
       "      <td>0.829712</td>\n",
       "    </tr>\n",
       "    <tr>\n",
       "      <th>8</th>\n",
       "      <td>8</td>\n",
       "      <td>0.61776</td>\n",
       "    </tr>\n",
       "    <tr>\n",
       "      <th>9</th>\n",
       "      <td>9</td>\n",
       "      <td>0.557893</td>\n",
       "    </tr>\n",
       "    <tr>\n",
       "      <th>10</th>\n",
       "      <td>10</td>\n",
       "      <td>0.501368</td>\n",
       "    </tr>\n",
       "    <tr>\n",
       "      <th>11</th>\n",
       "      <td>11</td>\n",
       "      <td>0.477772</td>\n",
       "    </tr>\n",
       "    <tr>\n",
       "      <th>12</th>\n",
       "      <td>12</td>\n",
       "      <td>0.370733</td>\n",
       "    </tr>\n",
       "    <tr>\n",
       "      <th>13</th>\n",
       "      <td>13</td>\n",
       "      <td>0.480194</td>\n",
       "    </tr>\n",
       "    <tr>\n",
       "      <th>14</th>\n",
       "      <td>14</td>\n",
       "      <td>0.494792</td>\n",
       "    </tr>\n",
       "    <tr>\n",
       "      <th>15</th>\n",
       "      <td>15</td>\n",
       "      <td>0.549375</td>\n",
       "    </tr>\n",
       "    <tr>\n",
       "      <th>16</th>\n",
       "      <td>16</td>\n",
       "      <td>0.415215</td>\n",
       "    </tr>\n",
       "    <tr>\n",
       "      <th>17</th>\n",
       "      <td>17</td>\n",
       "      <td>0.468139</td>\n",
       "    </tr>\n",
       "    <tr>\n",
       "      <th>18</th>\n",
       "      <td>18</td>\n",
       "      <td>0.604969</td>\n",
       "    </tr>\n",
       "    <tr>\n",
       "      <th>19</th>\n",
       "      <td>19</td>\n",
       "      <td>0.486842</td>\n",
       "    </tr>\n",
       "    <tr>\n",
       "      <th>20</th>\n",
       "      <td>20</td>\n",
       "      <td>0.563542</td>\n",
       "    </tr>\n",
       "  </tbody>\n",
       "</table>\n",
       "</div>"
      ],
      "text/plain": [
       "   epoch      loss\n",
       "1      1   1.96753\n",
       "2      2   1.09404\n",
       "3      3  0.863364\n",
       "4      4   1.04063\n",
       "5      5  0.698232\n",
       "6      6  0.680236\n",
       "7      7  0.829712\n",
       "8      8   0.61776\n",
       "9      9  0.557893\n",
       "10    10  0.501368\n",
       "11    11  0.477772\n",
       "12    12  0.370733\n",
       "13    13  0.480194\n",
       "14    14  0.494792\n",
       "15    15  0.549375\n",
       "16    16  0.415215\n",
       "17    17  0.468139\n",
       "18    18  0.604969\n",
       "19    19  0.486842\n",
       "20    20  0.563542"
      ]
     },
     "execution_count": 158,
     "metadata": {},
     "output_type": "execute_result"
    }
   ],
   "source": [
    "loss_progression.T"
   ]
  },
  {
   "cell_type": "code",
   "execution_count": 225,
   "metadata": {},
   "outputs": [
    {
     "data": {
      "text/plain": [
       "[<matplotlib.lines.Line2D at 0x26b58798780>]"
      ]
     },
     "execution_count": 225,
     "metadata": {},
     "output_type": "execute_result"
    },
    {
     "data": {
      "image/png": "[encoded data removed]",
      "text/plain": [
       "<Figure size 576x432 with 1 Axes>"
      ]
     },
     "metadata": {},
     "output_type": "display_data"
    }
   ],
   "source": [
    "plt.figure()\n",
    "plt.plot(range(1,21),rnn1_loss)\n",
    "plt.plot(range(1,21),lstm1_loss)\n",
    "plt.plot(range(1,21),rnn2_loss)\n",
    "plt.plot(range(1,21),lstm2_loss)"
   ]
  },
  {
   "cell_type": "code",
   "execution_count": 249,
   "metadata": {},
   "outputs": [
    {
     "data": {
      "image/png": "[encoded data removed]",
      "text/plain": [
       "<Figure size 576x432 with 1 Axes>"
      ]
     },
     "metadata": {},
     "output_type": "display_data"
    }
   ],
   "source": [
    "plt.figure()\n",
    "sns.set()\n",
    "#sns.set_style('whitegrid')\n",
    "sns.lineplot(data=loss_progression)\n",
    "plt.xticks(range(1,21),size=12)\n",
    "plt.yticks(size=12)\n",
    "plt.ylim((0,2.5))\n",
    "plt.title('Comparison of Loss Functions',size=16)\n",
    "plt.xlabel('Epoch',size=14)\n",
    "plt.ylabel('Loss',size=14)\n",
    "plt.savefig('compare_loss_prog.png')"
   ]
  },
  {
   "cell_type": "markdown",
   "metadata": {},
   "source": [
    "#### Accuracy plot"
   ]
  },
  {
   "cell_type": "code",
   "execution_count": 250,
   "metadata": {},
   "outputs": [],
   "source": [
    "acc_progression = pd.DataFrame(index=list(range(1,21)))\n",
    "for idx in range(20):\n",
    "    #loss_progression.loc['epoch',idx+1] = idx+1\n",
    "    #loss_progression.loc[idx+1,'epoch'] = idx+1\n",
    "    acc_progression.loc[idx+1,'rnn1_acc'] = rnn1_acc[idx]\n",
    "    acc_progression.loc[idx+1,'lstm1_acc'] = lstm1_acc[idx]\n",
    "    acc_progression.loc[idx+1,'rnn2_acc'] = rnn2_acc[idx]\n",
    "    acc_progression.loc[idx+1,'latm2_acc'] = lstm2_acc[idx]"
   ]
  },
  {
   "cell_type": "code",
   "execution_count": 251,
   "metadata": {},
   "outputs": [
    {
     "data": {
      "text/html": [
       "<div>\n",
       "<style scoped>\n",
       "    .dataframe tbody tr th:only-of-type {\n",
       "        vertical-align: middle;\n",
       "    }\n",
       "\n",
       "    .dataframe tbody tr th {\n",
       "        vertical-align: top;\n",
       "    }\n",
       "\n",
       "    .dataframe thead th {\n",
       "        text-align: right;\n",
       "    }\n",
       "</style>\n",
       "<table border=\"1\" class=\"dataframe\">\n",
       "  <thead>\n",
       "    <tr style=\"text-align: right;\">\n",
       "      <th></th>\n",
       "      <th>rnn1_acc</th>\n",
       "      <th>lstm1_acc</th>\n",
       "      <th>rnn2_acc</th>\n",
       "      <th>latm2_acc</th>\n",
       "    </tr>\n",
       "  </thead>\n",
       "  <tbody>\n",
       "    <tr>\n",
       "      <th>1</th>\n",
       "      <td>26.54</td>\n",
       "      <td>66.26</td>\n",
       "      <td>26.68</td>\n",
       "      <td>17.22</td>\n",
       "    </tr>\n",
       "    <tr>\n",
       "      <th>2</th>\n",
       "      <td>46.11</td>\n",
       "      <td>75.68</td>\n",
       "      <td>50.63</td>\n",
       "      <td>27.59</td>\n",
       "    </tr>\n",
       "    <tr>\n",
       "      <th>3</th>\n",
       "      <td>59.55</td>\n",
       "      <td>79.42</td>\n",
       "      <td>62.91</td>\n",
       "      <td>30.59</td>\n",
       "    </tr>\n",
       "    <tr>\n",
       "      <th>4</th>\n",
       "      <td>67.90</td>\n",
       "      <td>83.28</td>\n",
       "      <td>70.89</td>\n",
       "      <td>31.01</td>\n",
       "    </tr>\n",
       "    <tr>\n",
       "      <th>5</th>\n",
       "      <td>57.59</td>\n",
       "      <td>84.38</td>\n",
       "      <td>73.54</td>\n",
       "      <td>43.13</td>\n",
       "    </tr>\n",
       "    <tr>\n",
       "      <th>6</th>\n",
       "      <td>74.43</td>\n",
       "      <td>84.39</td>\n",
       "      <td>72.28</td>\n",
       "      <td>47.75</td>\n",
       "    </tr>\n",
       "    <tr>\n",
       "      <th>7</th>\n",
       "      <td>75.63</td>\n",
       "      <td>84.21</td>\n",
       "      <td>72.47</td>\n",
       "      <td>51.79</td>\n",
       "    </tr>\n",
       "    <tr>\n",
       "      <th>8</th>\n",
       "      <td>78.09</td>\n",
       "      <td>85.59</td>\n",
       "      <td>70.49</td>\n",
       "      <td>60.19</td>\n",
       "    </tr>\n",
       "    <tr>\n",
       "      <th>9</th>\n",
       "      <td>77.10</td>\n",
       "      <td>86.11</td>\n",
       "      <td>72.73</td>\n",
       "      <td>63.79</td>\n",
       "    </tr>\n",
       "    <tr>\n",
       "      <th>10</th>\n",
       "      <td>79.80</td>\n",
       "      <td>86.47</td>\n",
       "      <td>80.36</td>\n",
       "      <td>64.79</td>\n",
       "    </tr>\n",
       "    <tr>\n",
       "      <th>11</th>\n",
       "      <td>68.99</td>\n",
       "      <td>85.77</td>\n",
       "      <td>80.84</td>\n",
       "      <td>66.46</td>\n",
       "    </tr>\n",
       "    <tr>\n",
       "      <th>12</th>\n",
       "      <td>80.80</td>\n",
       "      <td>86.23</td>\n",
       "      <td>81.97</td>\n",
       "      <td>69.09</td>\n",
       "    </tr>\n",
       "    <tr>\n",
       "      <th>13</th>\n",
       "      <td>76.96</td>\n",
       "      <td>86.73</td>\n",
       "      <td>82.89</td>\n",
       "      <td>72.18</td>\n",
       "    </tr>\n",
       "    <tr>\n",
       "      <th>14</th>\n",
       "      <td>79.78</td>\n",
       "      <td>86.83</td>\n",
       "      <td>82.78</td>\n",
       "      <td>72.39</td>\n",
       "    </tr>\n",
       "    <tr>\n",
       "      <th>15</th>\n",
       "      <td>81.20</td>\n",
       "      <td>87.08</td>\n",
       "      <td>83.33</td>\n",
       "      <td>73.78</td>\n",
       "    </tr>\n",
       "    <tr>\n",
       "      <th>16</th>\n",
       "      <td>82.32</td>\n",
       "      <td>87.44</td>\n",
       "      <td>82.13</td>\n",
       "      <td>71.10</td>\n",
       "    </tr>\n",
       "    <tr>\n",
       "      <th>17</th>\n",
       "      <td>81.70</td>\n",
       "      <td>87.87</td>\n",
       "      <td>84.28</td>\n",
       "      <td>76.34</td>\n",
       "    </tr>\n",
       "    <tr>\n",
       "      <th>18</th>\n",
       "      <td>81.86</td>\n",
       "      <td>87.60</td>\n",
       "      <td>84.45</td>\n",
       "      <td>77.30</td>\n",
       "    </tr>\n",
       "    <tr>\n",
       "      <th>19</th>\n",
       "      <td>82.08</td>\n",
       "      <td>87.36</td>\n",
       "      <td>83.43</td>\n",
       "      <td>77.20</td>\n",
       "    </tr>\n",
       "    <tr>\n",
       "      <th>20</th>\n",
       "      <td>82.10</td>\n",
       "      <td>87.78</td>\n",
       "      <td>84.90</td>\n",
       "      <td>76.92</td>\n",
       "    </tr>\n",
       "  </tbody>\n",
       "</table>\n",
       "</div>"
      ],
      "text/plain": [
       "    rnn1_acc  lstm1_acc  rnn2_acc  latm2_acc\n",
       "1      26.54      66.26     26.68      17.22\n",
       "2      46.11      75.68     50.63      27.59\n",
       "3      59.55      79.42     62.91      30.59\n",
       "4      67.90      83.28     70.89      31.01\n",
       "5      57.59      84.38     73.54      43.13\n",
       "6      74.43      84.39     72.28      47.75\n",
       "7      75.63      84.21     72.47      51.79\n",
       "8      78.09      85.59     70.49      60.19\n",
       "9      77.10      86.11     72.73      63.79\n",
       "10     79.80      86.47     80.36      64.79\n",
       "11     68.99      85.77     80.84      66.46\n",
       "12     80.80      86.23     81.97      69.09\n",
       "13     76.96      86.73     82.89      72.18\n",
       "14     79.78      86.83     82.78      72.39\n",
       "15     81.20      87.08     83.33      73.78\n",
       "16     82.32      87.44     82.13      71.10\n",
       "17     81.70      87.87     84.28      76.34\n",
       "18     81.86      87.60     84.45      77.30\n",
       "19     82.08      87.36     83.43      77.20\n",
       "20     82.10      87.78     84.90      76.92"
      ]
     },
     "execution_count": 251,
     "metadata": {},
     "output_type": "execute_result"
    }
   ],
   "source": [
    "acc_progression"
   ]
  },
  {
   "cell_type": "code",
   "execution_count": 253,
   "metadata": {},
   "outputs": [
    {
     "data": {
      "image/png": "[encoded data removed]",
      "text/plain": [
       "<Figure size 576x432 with 1 Axes>"
      ]
     },
     "metadata": {},
     "output_type": "display_data"
    }
   ],
   "source": [
    "plt.figure()\n",
    "sns.set()\n",
    "#sns.set_style('whitegrid')\n",
    "sns.lineplot(data=acc_progression)\n",
    "plt.xticks(range(1,21),size=12)\n",
    "plt.yticks(size=12)\n",
    "plt.ylim((0,100))\n",
    "plt.title('Comparison of Accuracy Functions',size=16)\n",
    "plt.xlabel('Epoch',size=14)\n",
    "plt.ylabel('Accuracy',size=14)\n",
    "plt.savefig('compare_acc_prog.png')"
   ]
  },
  {
   "cell_type": "markdown",
   "metadata": {},
   "source": [
    "#### Example line plot"
   ]
  },
  {
   "cell_type": "code",
   "execution_count": 163,
   "metadata": {},
   "outputs": [
    {
     "name": "stderr",
     "output_type": "stream",
     "text": [
      "C:\\Users\\iamph\\Miniconda3\\envs\\tensorflow\\lib\\site-packages\\pandas\\plotting\\_converter.py:129: FutureWarning: Using an implicitly registered datetime converter for a matplotlib plotting method. The converter was registered by pandas on import. Future versions of pandas will require you to explicitly register matplotlib converters.\n",
      "\n",
      "To register the converters:\n",
      "\t>>> from pandas.plotting import register_matplotlib_converters\n",
      "\t>>> register_matplotlib_converters()\n",
      "  warnings.warn(msg, FutureWarning)\n"
     ]
    },
    {
     "data": {
      "image/png": "[encoded data removed]",
      "text/plain": [
       "<Figure size 576x432 with 1 Axes>"
      ]
     },
     "metadata": {
      "needs_background": "light"
     },
     "output_type": "display_data"
    }
   ],
   "source": [
    "index = pd.date_range(\"1 1 2000\", periods=100,\n",
    "                      freq=\"m\", name=\"date\")\n",
    "data = np.random.randn(100, 4).cumsum(axis=0)\n",
    "wide_df = pd.DataFrame(data, index, [\"a\", \"b\", \"c\", \"d\"])\n",
    "ax = sns.lineplot(data=wide_df)"
   ]
  },
  {
   "cell_type": "code",
   "execution_count": 164,
   "metadata": {
    "scrolled": true
   },
   "outputs": [
    {
     "data": {
      "text/html": [
       "<div>\n",
       "<style scoped>\n",
       "    .dataframe tbody tr th:only-of-type {\n",
       "        vertical-align: middle;\n",
       "    }\n",
       "\n",
       "    .dataframe tbody tr th {\n",
       "        vertical-align: top;\n",
       "    }\n",
       "\n",
       "    .dataframe thead th {\n",
       "        text-align: right;\n",
       "    }\n",
       "</style>\n",
       "<table border=\"1\" class=\"dataframe\">\n",
       "  <thead>\n",
       "    <tr style=\"text-align: right;\">\n",
       "      <th></th>\n",
       "      <th>a</th>\n",
       "      <th>b</th>\n",
       "      <th>c</th>\n",
       "      <th>d</th>\n",
       "    </tr>\n",
       "    <tr>\n",
       "      <th>date</th>\n",
       "      <th></th>\n",
       "      <th></th>\n",
       "      <th></th>\n",
       "      <th></th>\n",
       "    </tr>\n",
       "  </thead>\n",
       "  <tbody>\n",
       "    <tr>\n",
       "      <th>2000-01-31</th>\n",
       "      <td>0.391063</td>\n",
       "      <td>-0.327351</td>\n",
       "      <td>0.318918</td>\n",
       "      <td>0.724387</td>\n",
       "    </tr>\n",
       "    <tr>\n",
       "      <th>2000-02-29</th>\n",
       "      <td>-0.409024</td>\n",
       "      <td>-0.359547</td>\n",
       "      <td>0.266280</td>\n",
       "      <td>1.290560</td>\n",
       "    </tr>\n",
       "    <tr>\n",
       "      <th>2000-03-31</th>\n",
       "      <td>-1.188571</td>\n",
       "      <td>-1.734329</td>\n",
       "      <td>0.792988</td>\n",
       "      <td>2.433870</td>\n",
       "    </tr>\n",
       "    <tr>\n",
       "      <th>2000-04-30</th>\n",
       "      <td>-1.600699</td>\n",
       "      <td>-1.733961</td>\n",
       "      <td>0.540189</td>\n",
       "      <td>2.260497</td>\n",
       "    </tr>\n",
       "    <tr>\n",
       "      <th>2000-05-31</th>\n",
       "      <td>-1.493903</td>\n",
       "      <td>-0.769556</td>\n",
       "      <td>1.698721</td>\n",
       "      <td>3.536460</td>\n",
       "    </tr>\n",
       "    <tr>\n",
       "      <th>2000-06-30</th>\n",
       "      <td>-0.567588</td>\n",
       "      <td>-1.342950</td>\n",
       "      <td>0.783043</td>\n",
       "      <td>4.388834</td>\n",
       "    </tr>\n",
       "    <tr>\n",
       "      <th>2000-07-31</th>\n",
       "      <td>-0.505284</td>\n",
       "      <td>-0.692729</td>\n",
       "      <td>-0.515373</td>\n",
       "      <td>5.299967</td>\n",
       "    </tr>\n",
       "    <tr>\n",
       "      <th>2000-08-31</th>\n",
       "      <td>-0.964986</td>\n",
       "      <td>1.890742</td>\n",
       "      <td>-1.036492</td>\n",
       "      <td>5.971014</td>\n",
       "    </tr>\n",
       "    <tr>\n",
       "      <th>2000-09-30</th>\n",
       "      <td>-0.290041</td>\n",
       "      <td>3.772519</td>\n",
       "      <td>-0.120468</td>\n",
       "      <td>4.731993</td>\n",
       "    </tr>\n",
       "    <tr>\n",
       "      <th>2000-10-31</th>\n",
       "      <td>-1.436443</td>\n",
       "      <td>3.318728</td>\n",
       "      <td>-1.138922</td>\n",
       "      <td>4.482753</td>\n",
       "    </tr>\n",
       "    <tr>\n",
       "      <th>2000-11-30</th>\n",
       "      <td>-0.604297</td>\n",
       "      <td>3.539203</td>\n",
       "      <td>-1.290523</td>\n",
       "      <td>4.856210</td>\n",
       "    </tr>\n",
       "    <tr>\n",
       "      <th>2000-12-31</th>\n",
       "      <td>-2.005568</td>\n",
       "      <td>3.678213</td>\n",
       "      <td>-2.802703</td>\n",
       "      <td>5.510181</td>\n",
       "    </tr>\n",
       "    <tr>\n",
       "      <th>2001-01-31</th>\n",
       "      <td>-1.895279</td>\n",
       "      <td>2.873853</td>\n",
       "      <td>-3.051809</td>\n",
       "      <td>6.254276</td>\n",
       "    </tr>\n",
       "    <tr>\n",
       "      <th>2001-02-28</th>\n",
       "      <td>-1.619869</td>\n",
       "      <td>3.512295</td>\n",
       "      <td>-4.409418</td>\n",
       "      <td>6.650283</td>\n",
       "    </tr>\n",
       "    <tr>\n",
       "      <th>2001-03-31</th>\n",
       "      <td>-1.290206</td>\n",
       "      <td>3.080047</td>\n",
       "      <td>-3.443075</td>\n",
       "      <td>8.245522</td>\n",
       "    </tr>\n",
       "    <tr>\n",
       "      <th>2001-04-30</th>\n",
       "      <td>0.373665</td>\n",
       "      <td>2.864184</td>\n",
       "      <td>-4.752988</td>\n",
       "      <td>9.929231</td>\n",
       "    </tr>\n",
       "    <tr>\n",
       "      <th>2001-05-31</th>\n",
       "      <td>-0.141395</td>\n",
       "      <td>3.296460</td>\n",
       "      <td>-4.463154</td>\n",
       "      <td>9.271881</td>\n",
       "    </tr>\n",
       "    <tr>\n",
       "      <th>2001-06-30</th>\n",
       "      <td>-0.102803</td>\n",
       "      <td>2.167208</td>\n",
       "      <td>-6.228252</td>\n",
       "      <td>9.474047</td>\n",
       "    </tr>\n",
       "    <tr>\n",
       "      <th>2001-07-31</th>\n",
       "      <td>-0.569167</td>\n",
       "      <td>1.713924</td>\n",
       "      <td>-4.585882</td>\n",
       "      <td>9.384813</td>\n",
       "    </tr>\n",
       "    <tr>\n",
       "      <th>2001-08-31</th>\n",
       "      <td>-1.871962</td>\n",
       "      <td>0.355071</td>\n",
       "      <td>-2.724956</td>\n",
       "      <td>8.958857</td>\n",
       "    </tr>\n",
       "    <tr>\n",
       "      <th>2001-09-30</th>\n",
       "      <td>-2.387228</td>\n",
       "      <td>1.386478</td>\n",
       "      <td>-1.617967</td>\n",
       "      <td>8.998254</td>\n",
       "    </tr>\n",
       "    <tr>\n",
       "      <th>2001-10-31</th>\n",
       "      <td>-2.114386</td>\n",
       "      <td>0.891524</td>\n",
       "      <td>-3.039829</td>\n",
       "      <td>7.946618</td>\n",
       "    </tr>\n",
       "    <tr>\n",
       "      <th>2001-11-30</th>\n",
       "      <td>-2.415996</td>\n",
       "      <td>1.457129</td>\n",
       "      <td>-2.510257</td>\n",
       "      <td>6.799925</td>\n",
       "    </tr>\n",
       "    <tr>\n",
       "      <th>2001-12-31</th>\n",
       "      <td>-4.685126</td>\n",
       "      <td>0.068151</td>\n",
       "      <td>-3.060643</td>\n",
       "      <td>6.078622</td>\n",
       "    </tr>\n",
       "    <tr>\n",
       "      <th>2002-01-31</th>\n",
       "      <td>-4.165113</td>\n",
       "      <td>-0.118066</td>\n",
       "      <td>-4.013195</td>\n",
       "      <td>8.131412</td>\n",
       "    </tr>\n",
       "    <tr>\n",
       "      <th>2002-02-28</th>\n",
       "      <td>-5.810046</td>\n",
       "      <td>0.973636</td>\n",
       "      <td>-3.800879</td>\n",
       "      <td>7.528003</td>\n",
       "    </tr>\n",
       "    <tr>\n",
       "      <th>2002-03-31</th>\n",
       "      <td>-5.098823</td>\n",
       "      <td>2.377928</td>\n",
       "      <td>-3.722674</td>\n",
       "      <td>7.157169</td>\n",
       "    </tr>\n",
       "    <tr>\n",
       "      <th>2002-04-30</th>\n",
       "      <td>-4.774851</td>\n",
       "      <td>2.317576</td>\n",
       "      <td>-3.522933</td>\n",
       "      <td>4.483528</td>\n",
       "    </tr>\n",
       "    <tr>\n",
       "      <th>2002-05-31</th>\n",
       "      <td>-2.922255</td>\n",
       "      <td>2.020490</td>\n",
       "      <td>-5.249459</td>\n",
       "      <td>4.175800</td>\n",
       "    </tr>\n",
       "    <tr>\n",
       "      <th>2002-06-30</th>\n",
       "      <td>-1.634006</td>\n",
       "      <td>1.856921</td>\n",
       "      <td>-5.874839</td>\n",
       "      <td>5.118029</td>\n",
       "    </tr>\n",
       "    <tr>\n",
       "      <th>...</th>\n",
       "      <td>...</td>\n",
       "      <td>...</td>\n",
       "      <td>...</td>\n",
       "      <td>...</td>\n",
       "    </tr>\n",
       "    <tr>\n",
       "      <th>2005-11-30</th>\n",
       "      <td>2.118140</td>\n",
       "      <td>2.186663</td>\n",
       "      <td>-9.586152</td>\n",
       "      <td>15.017152</td>\n",
       "    </tr>\n",
       "    <tr>\n",
       "      <th>2005-12-31</th>\n",
       "      <td>3.206166</td>\n",
       "      <td>2.333388</td>\n",
       "      <td>-7.782525</td>\n",
       "      <td>15.788444</td>\n",
       "    </tr>\n",
       "    <tr>\n",
       "      <th>2006-01-31</th>\n",
       "      <td>2.739885</td>\n",
       "      <td>1.745641</td>\n",
       "      <td>-7.595693</td>\n",
       "      <td>15.855291</td>\n",
       "    </tr>\n",
       "    <tr>\n",
       "      <th>2006-02-28</th>\n",
       "      <td>3.459634</td>\n",
       "      <td>1.482411</td>\n",
       "      <td>-7.936900</td>\n",
       "      <td>14.484439</td>\n",
       "    </tr>\n",
       "    <tr>\n",
       "      <th>2006-03-31</th>\n",
       "      <td>5.860255</td>\n",
       "      <td>3.168456</td>\n",
       "      <td>-7.246536</td>\n",
       "      <td>14.128369</td>\n",
       "    </tr>\n",
       "    <tr>\n",
       "      <th>2006-04-30</th>\n",
       "      <td>5.351881</td>\n",
       "      <td>1.258901</td>\n",
       "      <td>-7.236141</td>\n",
       "      <td>14.601184</td>\n",
       "    </tr>\n",
       "    <tr>\n",
       "      <th>2006-05-31</th>\n",
       "      <td>6.663383</td>\n",
       "      <td>1.155903</td>\n",
       "      <td>-5.486679</td>\n",
       "      <td>14.208251</td>\n",
       "    </tr>\n",
       "    <tr>\n",
       "      <th>2006-06-30</th>\n",
       "      <td>7.402339</td>\n",
       "      <td>2.437994</td>\n",
       "      <td>-5.232230</td>\n",
       "      <td>14.685588</td>\n",
       "    </tr>\n",
       "    <tr>\n",
       "      <th>2006-07-31</th>\n",
       "      <td>7.804324</td>\n",
       "      <td>1.810536</td>\n",
       "      <td>-6.003385</td>\n",
       "      <td>15.960068</td>\n",
       "    </tr>\n",
       "    <tr>\n",
       "      <th>2006-08-31</th>\n",
       "      <td>6.942461</td>\n",
       "      <td>0.417555</td>\n",
       "      <td>-3.988641</td>\n",
       "      <td>15.209777</td>\n",
       "    </tr>\n",
       "    <tr>\n",
       "      <th>2006-09-30</th>\n",
       "      <td>6.520186</td>\n",
       "      <td>0.962934</td>\n",
       "      <td>-3.615013</td>\n",
       "      <td>14.445105</td>\n",
       "    </tr>\n",
       "    <tr>\n",
       "      <th>2006-10-31</th>\n",
       "      <td>6.956809</td>\n",
       "      <td>0.059858</td>\n",
       "      <td>-4.098247</td>\n",
       "      <td>15.982599</td>\n",
       "    </tr>\n",
       "    <tr>\n",
       "      <th>2006-11-30</th>\n",
       "      <td>6.642613</td>\n",
       "      <td>-0.734767</td>\n",
       "      <td>-2.840350</td>\n",
       "      <td>13.494226</td>\n",
       "    </tr>\n",
       "    <tr>\n",
       "      <th>2006-12-31</th>\n",
       "      <td>6.146291</td>\n",
       "      <td>-1.526699</td>\n",
       "      <td>-5.165023</td>\n",
       "      <td>12.206369</td>\n",
       "    </tr>\n",
       "    <tr>\n",
       "      <th>2007-01-31</th>\n",
       "      <td>5.355450</td>\n",
       "      <td>-2.579627</td>\n",
       "      <td>-5.263639</td>\n",
       "      <td>11.618565</td>\n",
       "    </tr>\n",
       "    <tr>\n",
       "      <th>2007-02-28</th>\n",
       "      <td>5.204369</td>\n",
       "      <td>-3.959675</td>\n",
       "      <td>-5.590074</td>\n",
       "      <td>10.478622</td>\n",
       "    </tr>\n",
       "    <tr>\n",
       "      <th>2007-03-31</th>\n",
       "      <td>4.269160</td>\n",
       "      <td>-4.180509</td>\n",
       "      <td>-4.658627</td>\n",
       "      <td>9.711398</td>\n",
       "    </tr>\n",
       "    <tr>\n",
       "      <th>2007-04-30</th>\n",
       "      <td>4.333079</td>\n",
       "      <td>-5.405521</td>\n",
       "      <td>-4.942116</td>\n",
       "      <td>9.798875</td>\n",
       "    </tr>\n",
       "    <tr>\n",
       "      <th>2007-05-31</th>\n",
       "      <td>5.604475</td>\n",
       "      <td>-5.136620</td>\n",
       "      <td>-3.544116</td>\n",
       "      <td>10.602614</td>\n",
       "    </tr>\n",
       "    <tr>\n",
       "      <th>2007-06-30</th>\n",
       "      <td>5.881408</td>\n",
       "      <td>-4.031663</td>\n",
       "      <td>-3.922000</td>\n",
       "      <td>11.717571</td>\n",
       "    </tr>\n",
       "    <tr>\n",
       "      <th>2007-07-31</th>\n",
       "      <td>6.676739</td>\n",
       "      <td>-3.957039</td>\n",
       "      <td>-3.855738</td>\n",
       "      <td>12.578443</td>\n",
       "    </tr>\n",
       "    <tr>\n",
       "      <th>2007-08-31</th>\n",
       "      <td>5.983379</td>\n",
       "      <td>-4.588789</td>\n",
       "      <td>-3.754827</td>\n",
       "      <td>13.593281</td>\n",
       "    </tr>\n",
       "    <tr>\n",
       "      <th>2007-09-30</th>\n",
       "      <td>6.037214</td>\n",
       "      <td>-7.055710</td>\n",
       "      <td>-4.818232</td>\n",
       "      <td>14.347540</td>\n",
       "    </tr>\n",
       "    <tr>\n",
       "      <th>2007-10-31</th>\n",
       "      <td>5.271834</td>\n",
       "      <td>-6.147730</td>\n",
       "      <td>-4.761667</td>\n",
       "      <td>15.168250</td>\n",
       "    </tr>\n",
       "    <tr>\n",
       "      <th>2007-11-30</th>\n",
       "      <td>4.402806</td>\n",
       "      <td>-5.093267</td>\n",
       "      <td>-5.155145</td>\n",
       "      <td>15.472742</td>\n",
       "    </tr>\n",
       "    <tr>\n",
       "      <th>2007-12-31</th>\n",
       "      <td>3.897308</td>\n",
       "      <td>-4.398928</td>\n",
       "      <td>-5.600169</td>\n",
       "      <td>15.458862</td>\n",
       "    </tr>\n",
       "    <tr>\n",
       "      <th>2008-01-31</th>\n",
       "      <td>3.402446</td>\n",
       "      <td>-4.060994</td>\n",
       "      <td>-5.446635</td>\n",
       "      <td>14.572392</td>\n",
       "    </tr>\n",
       "    <tr>\n",
       "      <th>2008-02-29</th>\n",
       "      <td>3.317905</td>\n",
       "      <td>-4.351684</td>\n",
       "      <td>-8.226252</td>\n",
       "      <td>13.319205</td>\n",
       "    </tr>\n",
       "    <tr>\n",
       "      <th>2008-03-31</th>\n",
       "      <td>3.243706</td>\n",
       "      <td>-4.130985</td>\n",
       "      <td>-5.811924</td>\n",
       "      <td>13.123949</td>\n",
       "    </tr>\n",
       "    <tr>\n",
       "      <th>2008-04-30</th>\n",
       "      <td>3.505307</td>\n",
       "      <td>-3.496445</td>\n",
       "      <td>-4.003658</td>\n",
       "      <td>13.935820</td>\n",
       "    </tr>\n",
       "  </tbody>\n",
       "</table>\n",
       "<p>100 rows × 4 columns</p>\n",
       "</div>"
      ],
      "text/plain": [
       "                   a         b         c          d\n",
       "date                                               \n",
       "2000-01-31  0.391063 -0.327351  0.318918   0.724387\n",
       "2000-02-29 -0.409024 -0.359547  0.266280   1.290560\n",
       "2000-03-31 -1.188571 -1.734329  0.792988   2.433870\n",
       "2000-04-30 -1.600699 -1.733961  0.540189   2.260497\n",
       "2000-05-31 -1.493903 -0.769556  1.698721   3.536460\n",
       "2000-06-30 -0.567588 -1.342950  0.783043   4.388834\n",
       "2000-07-31 -0.505284 -0.692729 -0.515373   5.299967\n",
       "2000-08-31 -0.964986  1.890742 -1.036492   5.971014\n",
       "2000-09-30 -0.290041  3.772519 -0.120468   4.731993\n",
       "2000-10-31 -1.436443  3.318728 -1.138922   4.482753\n",
       "2000-11-30 -0.604297  3.539203 -1.290523   4.856210\n",
       "2000-12-31 -2.005568  3.678213 -2.802703   5.510181\n",
       "2001-01-31 -1.895279  2.873853 -3.051809   6.254276\n",
       "2001-02-28 -1.619869  3.512295 -4.409418   6.650283\n",
       "2001-03-31 -1.290206  3.080047 -3.443075   8.245522\n",
       "2001-04-30  0.373665  2.864184 -4.752988   9.929231\n",
       "2001-05-31 -0.141395  3.296460 -4.463154   9.271881\n",
       "2001-06-30 -0.102803  2.167208 -6.228252   9.474047\n",
       "2001-07-31 -0.569167  1.713924 -4.585882   9.384813\n",
       "2001-08-31 -1.871962  0.355071 -2.724956   8.958857\n",
       "2001-09-30 -2.387228  1.386478 -1.617967   8.998254\n",
       "2001-10-31 -2.114386  0.891524 -3.039829   7.946618\n",
       "2001-11-30 -2.415996  1.457129 -2.510257   6.799925\n",
       "2001-12-31 -4.685126  0.068151 -3.060643   6.078622\n",
       "2002-01-31 -4.165113 -0.118066 -4.013195   8.131412\n",
       "2002-02-28 -5.810046  0.973636 -3.800879   7.528003\n",
       "2002-03-31 -5.098823  2.377928 -3.722674   7.157169\n",
       "2002-04-30 -4.774851  2.317576 -3.522933   4.483528\n",
       "2002-05-31 -2.922255  2.020490 -5.249459   4.175800\n",
       "2002-06-30 -1.634006  1.856921 -5.874839   5.118029\n",
       "...              ...       ...       ...        ...\n",
       "2005-11-30  2.118140  2.186663 -9.586152  15.017152\n",
       "2005-12-31  3.206166  2.333388 -7.782525  15.788444\n",
       "2006-01-31  2.739885  1.745641 -7.595693  15.855291\n",
       "2006-02-28  3.459634  1.482411 -7.936900  14.484439\n",
       "2006-03-31  5.860255  3.168456 -7.246536  14.128369\n",
       "2006-04-30  5.351881  1.258901 -7.236141  14.601184\n",
       "2006-05-31  6.663383  1.155903 -5.486679  14.208251\n",
       "2006-06-30  7.402339  2.437994 -5.232230  14.685588\n",
       "2006-07-31  7.804324  1.810536 -6.003385  15.960068\n",
       "2006-08-31  6.942461  0.417555 -3.988641  15.209777\n",
       "2006-09-30  6.520186  0.962934 -3.615013  14.445105\n",
       "2006-10-31  6.956809  0.059858 -4.098247  15.982599\n",
       "2006-11-30  6.642613 -0.734767 -2.840350  13.494226\n",
       "2006-12-31  6.146291 -1.526699 -5.165023  12.206369\n",
       "2007-01-31  5.355450 -2.579627 -5.263639  11.618565\n",
       "2007-02-28  5.204369 -3.959675 -5.590074  10.478622\n",
       "2007-03-31  4.269160 -4.180509 -4.658627   9.711398\n",
       "2007-04-30  4.333079 -5.405521 -4.942116   9.798875\n",
       "2007-05-31  5.604475 -5.136620 -3.544116  10.602614\n",
       "2007-06-30  5.881408 -4.031663 -3.922000  11.717571\n",
       "2007-07-31  6.676739 -3.957039 -3.855738  12.578443\n",
       "2007-08-31  5.983379 -4.588789 -3.754827  13.593281\n",
       "2007-09-30  6.037214 -7.055710 -4.818232  14.347540\n",
       "2007-10-31  5.271834 -6.147730 -4.761667  15.168250\n",
       "2007-11-30  4.402806 -5.093267 -5.155145  15.472742\n",
       "2007-12-31  3.897308 -4.398928 -5.600169  15.458862\n",
       "2008-01-31  3.402446 -4.060994 -5.446635  14.572392\n",
       "2008-02-29  3.317905 -4.351684 -8.226252  13.319205\n",
       "2008-03-31  3.243706 -4.130985 -5.811924  13.123949\n",
       "2008-04-30  3.505307 -3.496445 -4.003658  13.935820\n",
       "\n",
       "[100 rows x 4 columns]"
      ]
     },
     "execution_count": 164,
     "metadata": {},
     "output_type": "execute_result"
    }
   ],
   "source": [
    "wide_df"
   ]
  },
  {
   "cell_type": "code",
   "execution_count": null,
   "metadata": {},
   "outputs": [],
   "source": []
  }
 ],
 "metadata": {
  "kernelspec": {
   "display_name": "Python 3.6 (tensorflow)",
   "language": "python",
   "name": "tensorflow"
  },
  "language_info": {
   "codemirror_mode": {
    "name": "ipython",
    "version": 3
   },
   "file_extension": ".py",
   "mimetype": "text/x-python",
   "name": "python",
   "nbconvert_exporter": "python",
   "pygments_lexer": "ipython3",
   "version": "3.6.8"
  }
 },
 "nbformat": 4,
 "nbformat_minor": 2
}
